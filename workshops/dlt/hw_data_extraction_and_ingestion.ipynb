{
  "nbformat": 4,
  "nbformat_minor": 0,
  "metadata": {
    "colab": {
      "provenance": []
    },
    "kernelspec": {
      "name": "python3",
      "display_name": "Python 3"
    },
    "language_info": {
      "name": "python"
    }
  },
  "cells": [
    {
      "cell_type": "markdown",
      "source": [
        "# **Homework**: Data talks club data engineering zoomcamp Data loading workshop\n",
        "\n",
        "Hello folks, let's practice what we learned - Loading data with the best practices of data engineering.\n",
        "\n",
        "Here are the exercises we will do\n",
        "\n",
        "\n"
      ],
      "metadata": {
        "id": "mrTFv5nPClXh"
      }
    },
    {
      "cell_type": "markdown",
      "source": [
        "# 1. Use a generator\n",
        "\n",
        "Remember the concept of generator? Let's practice using them to futher our understanding of how they work.\n",
        "\n",
        "Let's define a generator and then run it as practice.\n",
        "\n",
        "**Answer the following questions:**\n",
        "\n",
        "- **Question 1: What is the sum of the outputs of the generator for limit = 5?**\n",
        "- **Question 2: What is the 13th number yielded**\n",
        "\n",
        "I suggest practicing these questions without GPT as the purpose is to further your learning."
      ],
      "metadata": {
        "id": "wLF4iXf-NR7t"
      }
    },
    {
      "cell_type": "code",
      "source": [
        "def square_root_generator(limit):\n",
        "    n = 1\n",
        "    while n <= limit:\n",
        "        yield n ** 0.5\n",
        "        n += 1\n",
        "\n",
        "# Example usage:\n",
        "limit = 5\n",
        "generator = square_root_generator(limit)\n",
        "\n",
        "for sqrt_value in generator:\n",
        "    print(sqrt_value)"
      ],
      "metadata": {
        "colab": {
          "base_uri": "https://localhost:8080/"
        },
        "id": "wLng-bDJN4jf",
        "outputId": "a07755ec-ef29-4fc0-f63b-e4610ba6b764"
      },
      "execution_count": 67,
      "outputs": [
        {
          "output_type": "stream",
          "name": "stdout",
          "text": [
            "1.0\n",
            "1.4142135623730951\n",
            "1.7320508075688772\n",
            "2.0\n",
            "2.23606797749979\n"
          ]
        }
      ]
    },
    {
      "cell_type": "markdown",
      "source": [],
      "metadata": {
        "id": "xbe3q55zN43j"
      }
    },
    {
      "cell_type": "markdown",
      "source": [
        "# 2. Append a generator to a table with existing data\n",
        "\n",
        "\n",
        "Below you have 2 generators. You will be tasked to load them to duckdb and answer some questions from the data\n",
        "\n",
        "1. Load the first generator and calculate the sum of ages of all people. Make sure to only load it once.\n",
        "2. Append the second generator to the same table as the first.\n",
        "3. **After correctly appending the data, calculate the sum of all ages of people.**\n",
        "\n",
        "\n"
      ],
      "metadata": {
        "id": "vjWhILzGJMpK"
      }
    },
    {
      "cell_type": "code",
      "execution_count": 33,
      "metadata": {
        "colab": {
          "base_uri": "https://localhost:8080/"
        },
        "id": "2MoaQcdLBEk6",
        "outputId": "3d91875e-c0db-49a4-d1f0-83ae2d09731b"
      },
      "outputs": [
        {
          "output_type": "stream",
          "name": "stdout",
          "text": [
            "{'ID': 1, 'Name': 'Person_1', 'Age': 26, 'City': 'City_A'}\n",
            "{'ID': 2, 'Name': 'Person_2', 'Age': 27, 'City': 'City_A'}\n",
            "{'ID': 3, 'Name': 'Person_3', 'Age': 28, 'City': 'City_A'}\n",
            "{'ID': 4, 'Name': 'Person_4', 'Age': 29, 'City': 'City_A'}\n",
            "{'ID': 5, 'Name': 'Person_5', 'Age': 30, 'City': 'City_A'}\n",
            "{'ID': 3, 'Name': 'Person_3', 'Age': 33, 'City': 'City_B', 'Occupation': 'Job_3'}\n",
            "{'ID': 4, 'Name': 'Person_4', 'Age': 34, 'City': 'City_B', 'Occupation': 'Job_4'}\n",
            "{'ID': 5, 'Name': 'Person_5', 'Age': 35, 'City': 'City_B', 'Occupation': 'Job_5'}\n",
            "{'ID': 6, 'Name': 'Person_6', 'Age': 36, 'City': 'City_B', 'Occupation': 'Job_6'}\n",
            "{'ID': 7, 'Name': 'Person_7', 'Age': 37, 'City': 'City_B', 'Occupation': 'Job_7'}\n",
            "{'ID': 8, 'Name': 'Person_8', 'Age': 38, 'City': 'City_B', 'Occupation': 'Job_8'}\n"
          ]
        }
      ],
      "source": [
        "def people_1():\n",
        "    for i in range(1, 6):\n",
        "        yield {\"ID\": i, \"Name\": f\"Person_{i}\", \"Age\": 25 + i, \"City\": \"City_A\"}\n",
        "\n",
        "for person in people_1():\n",
        "    print(person)\n",
        "\n",
        "\n",
        "def people_2():\n",
        "    for i in range(3, 9):\n",
        "        yield {\"ID\": i, \"Name\": f\"Person_{i}\", \"Age\": 30 + i, \"City\": \"City_B\", \"Occupation\": f\"Job_{i}\"}\n",
        "\n",
        "\n",
        "for person in people_2():\n",
        "    print(person)\n"
      ]
    },
    {
      "cell_type": "markdown",
      "source": [
        "# 3. Merge a generator\n",
        "\n",
        "Re-use the generators from Exercise 2.\n",
        "\n",
        "A table's primary key needs to be created from the start, so load your data to a new table with primary key ID.\n",
        "\n",
        "Load your first generator first, and then load the second one with merge. Since they have overlapping IDs, some of the records from the first load should be replaced by the ones from the second load.\n",
        "\n",
        "After loading, you should have a total of 8 records, and ID 3 should have age 33.\n",
        "\n",
        "Question: **Calculate the sum of ages of all the people loaded as described above.**\n"
      ],
      "metadata": {
        "id": "pY4cFAWOSwN1"
      }
    },
    {
      "cell_type": "markdown",
      "source": [
        "# Solution: First make sure that the following modules are installed:"
      ],
      "metadata": {
        "id": "kKB2GTB9oVjr"
      }
    },
    {
      "cell_type": "code",
      "source": [
        "#Install the dependencies\n",
        "%%capture\n",
        "!pip install dlt[duckdb]"
      ],
      "metadata": {
        "id": "xTVvtyqrfVNq"
      },
      "execution_count": 15,
      "outputs": []
    },
    {
      "cell_type": "markdown",
      "source": [
        "## 1. Use a generator\n",
        "\n",
        "- **Question 1: What is the sum of the outputs of the generator for limit = 5?**\n",
        "- **Question 2: What is the 13th number yielded**"
      ],
      "metadata": {
        "id": "s24TvcfY7qgV"
      }
    },
    {
      "cell_type": "code",
      "source": [
        "def square_root_generator(limit):\n",
        "    n = 1\n",
        "    while n <= limit:\n",
        "        yield n ** 0.5\n",
        "        n += 1\n",
        "\n",
        "# Example usage:\n",
        "limit = 5\n",
        "generator = square_root_generator(limit)\n",
        "\n",
        "for sqrt_value in generator:\n",
        "    print(sqrt_value)\n",
        "\n",
        "\n",
        "######\n",
        "# Question 1: What is the sum of the outputs of the generator for limit = 5?\n",
        "limit = 5\n",
        "generator = square_root_generator(limit)\n",
        "total = 0\n",
        "\n",
        "for sqrt_value in generator:\n",
        "    total += sqrt_value\n",
        "print('\\n--------------------------\\nQuestion 1:')\n",
        "print(f'Total: {total}')\n",
        "\n",
        "\n",
        "######\n",
        "# Question 2: What is the 13th number yielded\n",
        "limit = 13\n",
        "generator = square_root_generator(limit)\n",
        "for idx, sqrt_value in enumerate(generator):\n",
        "    if idx == limit-1:\n",
        "      print('\\n--------------------------\\nQuestion 2:')\n",
        "      print(f'{idx+1}th number: {sqrt_value}')"
      ],
      "metadata": {
        "colab": {
          "base_uri": "https://localhost:8080/"
        },
        "id": "9SdEa5Gb63Iv",
        "outputId": "16a402ed-2b1e-4ce2-bd93-67bdd7302af2"
      },
      "execution_count": 74,
      "outputs": [
        {
          "output_type": "stream",
          "name": "stdout",
          "text": [
            "1.0\n",
            "1.4142135623730951\n",
            "1.7320508075688772\n",
            "2.0\n",
            "2.23606797749979\n",
            "\n",
            "--------------------------\n",
            "Question 1:\n",
            "Total: 8.382332347441762\n",
            "\n",
            "--------------------------\n",
            "Question 2:\n",
            "13th number: 3.605551275463989\n"
          ]
        }
      ]
    },
    {
      "cell_type": "markdown",
      "source": [
        "## 2. Append a generator to a table with existing data\n",
        "\n",
        "\n",
        "Below you have 2 generators. You will be tasked to load them to duckdb and answer some questions from the data"
      ],
      "metadata": {
        "id": "qZh3Z1VR8Rug"
      }
    },
    {
      "cell_type": "code",
      "source": [
        "def people_1():\n",
        "    for i in range(1, 6):\n",
        "        yield {\"ID\": i, \"Name\": f\"Person_{i}\", \"Age\": 25 + i, \"City\": \"City_A\"}\n",
        "\n",
        "for person in people_1():\n",
        "    print(person)\n",
        "\n",
        "\n",
        "def people_2():\n",
        "    for i in range(3, 9):\n",
        "        yield {\"ID\": i, \"Name\": f\"Person_{i}\", \"Age\": 30 + i, \"City\": \"City_B\", \"Occupation\": f\"Job_{i}\"}\n",
        "\n",
        "for person in people_2():\n",
        "    print(person)"
      ],
      "metadata": {
        "colab": {
          "base_uri": "https://localhost:8080/"
        },
        "id": "qgdrOM9M8jQu",
        "outputId": "ba61ca30-468e-46cc-cd33-e5f9b022a01e"
      },
      "execution_count": 75,
      "outputs": [
        {
          "output_type": "stream",
          "name": "stdout",
          "text": [
            "{'ID': 1, 'Name': 'Person_1', 'Age': 26, 'City': 'City_A'}\n",
            "{'ID': 2, 'Name': 'Person_2', 'Age': 27, 'City': 'City_A'}\n",
            "{'ID': 3, 'Name': 'Person_3', 'Age': 28, 'City': 'City_A'}\n",
            "{'ID': 4, 'Name': 'Person_4', 'Age': 29, 'City': 'City_A'}\n",
            "{'ID': 5, 'Name': 'Person_5', 'Age': 30, 'City': 'City_A'}\n",
            "{'ID': 3, 'Name': 'Person_3', 'Age': 33, 'City': 'City_B', 'Occupation': 'Job_3'}\n",
            "{'ID': 4, 'Name': 'Person_4', 'Age': 34, 'City': 'City_B', 'Occupation': 'Job_4'}\n",
            "{'ID': 5, 'Name': 'Person_5', 'Age': 35, 'City': 'City_B', 'Occupation': 'Job_5'}\n",
            "{'ID': 6, 'Name': 'Person_6', 'Age': 36, 'City': 'City_B', 'Occupation': 'Job_6'}\n",
            "{'ID': 7, 'Name': 'Person_7', 'Age': 37, 'City': 'City_B', 'Occupation': 'Job_7'}\n",
            "{'ID': 8, 'Name': 'Person_8', 'Age': 38, 'City': 'City_B', 'Occupation': 'Job_8'}\n"
          ]
        }
      ]
    },
    {
      "cell_type": "markdown",
      "source": [
        "### 1. Load the first generator and calculate the sum of ages of all people. Make"
      ],
      "metadata": {
        "id": "lhrql08I9TYT"
      }
    },
    {
      "cell_type": "code",
      "source": [
        "# Load the first generator and calculate the sum of ages of all people. Make sure to only load it once.\n",
        "\n",
        "import dlt\n",
        "# generator = people_1()\n",
        "# for people in generator:\n",
        "generator_pipeline = dlt.pipeline(destination='duckdb', dataset_name='exercise_02')\n",
        "info = generator_pipeline.run(\n",
        "      people_1(),\n",
        "      table_name='test_table',\n",
        "      write_disposition='replace'\n",
        "  )\n",
        "print(info)\n",
        "\n",
        "# create a connection to destination\n",
        "conn = duckdb.connect(f'{generator_pipeline.pipeline_name}.duckdb')\n",
        "print(generator_pipeline.pipeline_name)\n",
        "\n",
        "# set the dataset\n",
        "conn.sql(f'SET search_path = {generator_pipeline.dataset_name}')\n",
        "print('Loaded tables: ')\n",
        "display(conn.sql('show tables'))\n",
        "\n",
        "# sample of table\n",
        "info = conn.sql('SELECT * from test_table limit 100')\n",
        "print('\\n-----------------------')\n",
        "print('Sample data (quite a small table, so it`s all the data)')\n",
        "print(info)\n",
        "\n",
        "# sum of all ages of people\n",
        "info = conn.sql('SELECT sum(age) sum_ages from test_table')\n",
        "print('\\n-----------------------')\n",
        "print('Sum of all ages of people')\n",
        "print(info)\n"
      ],
      "metadata": {
        "colab": {
          "base_uri": "https://localhost:8080/",
          "height": 729
        },
        "id": "SgKgylCJplNF",
        "outputId": "beb5e736-b445-46ce-d39d-fe1cb605db51"
      },
      "execution_count": 76,
      "outputs": [
        {
          "output_type": "stream",
          "name": "stdout",
          "text": [
            "Pipeline dlt_colab_kernel_launcher load step completed in 0.18 seconds\n",
            "1 load package(s) were loaded to destination duckdb and into dataset exercise_02\n",
            "The duckdb destination used duckdb:////content/dlt_colab_kernel_launcher.duckdb location to store data\n",
            "Load package 1707955237.0338879 is LOADED and contains no failed jobs\n",
            "dlt_colab_kernel_launcher\n",
            "Loaded tables: \n"
          ]
        },
        {
          "output_type": "display_data",
          "data": {
            "text/plain": [
              "┌─────────────────────┐\n",
              "│        name         │\n",
              "│       varchar       │\n",
              "├─────────────────────┤\n",
              "│ _dlt_loads          │\n",
              "│ _dlt_pipeline_state │\n",
              "│ _dlt_version        │\n",
              "│ test_table          │\n",
              "└─────────────────────┘"
            ]
          },
          "metadata": {}
        },
        {
          "output_type": "stream",
          "name": "stdout",
          "text": [
            "\n",
            "-----------------------\n",
            "Sample data (quite a small table, so it`s all the data)\n",
            "┌───────┬──────────┬───────┬─────────┬────────────────────┬────────────────┬────────────┐\n",
            "│  id   │   name   │  age  │  city   │    _dlt_load_id    │    _dlt_id     │ occupation │\n",
            "│ int64 │ varchar  │ int64 │ varchar │      varchar       │    varchar     │  varchar   │\n",
            "├───────┼──────────┼───────┼─────────┼────────────────────┼────────────────┼────────────┤\n",
            "│     1 │ Person_1 │    26 │ City_A  │ 1707955237.0338879 │ 7AxRRv9SdmUDNQ │ NULL       │\n",
            "│     2 │ Person_2 │    27 │ City_A  │ 1707955237.0338879 │ /HidbuaWqLfh5w │ NULL       │\n",
            "│     3 │ Person_3 │    28 │ City_A  │ 1707955237.0338879 │ S6E7u6X4x2QpQw │ NULL       │\n",
            "│     4 │ Person_4 │    29 │ City_A  │ 1707955237.0338879 │ raOrHZfcBTeljQ │ NULL       │\n",
            "│     5 │ Person_5 │    30 │ City_A  │ 1707955237.0338879 │ PQVSMyzw2Znjng │ NULL       │\n",
            "└───────┴──────────┴───────┴─────────┴────────────────────┴────────────────┴────────────┘\n",
            "\n",
            "\n",
            "-----------------------\n",
            "Sum of all ages of people\n",
            "┌──────────┐\n",
            "│ sum_ages │\n",
            "│  int128  │\n",
            "├──────────┤\n",
            "│      140 │\n",
            "└──────────┘\n",
            "\n"
          ]
        }
      ]
    },
    {
      "cell_type": "markdown",
      "source": [
        "### 2. Append the second generator to the same table as the first."
      ],
      "metadata": {
        "id": "VoG4bUN29iZk"
      }
    },
    {
      "cell_type": "code",
      "source": [
        "# Append the second generator to the same table as the first.\n",
        "\n",
        "import dlt\n",
        "# generator = people_2()\n",
        "# for people in generator:\n",
        "\n",
        "generator_pipeline = dlt.pipeline(destination='duckdb', dataset_name='exercise_02')\n",
        "info = generator_pipeline.run(\n",
        "      people_2(),\n",
        "      table_name='test_table',\n",
        "      write_disposition='append'\n",
        "  )\n",
        "print(info)\n"
      ],
      "metadata": {
        "colab": {
          "base_uri": "https://localhost:8080/"
        },
        "id": "VxSylUPes4yy",
        "outputId": "75b12e12-fcfe-4034-c42e-f36a58561e8c"
      },
      "execution_count": 77,
      "outputs": [
        {
          "output_type": "stream",
          "name": "stdout",
          "text": [
            "Pipeline dlt_colab_kernel_launcher load step completed in 0.17 seconds\n",
            "1 load package(s) were loaded to destination duckdb and into dataset exercise_02\n",
            "The duckdb destination used duckdb:////content/dlt_colab_kernel_launcher.duckdb location to store data\n",
            "Load package 1707955241.2830498 is LOADED and contains no failed jobs\n"
          ]
        }
      ]
    },
    {
      "cell_type": "markdown",
      "source": [
        "### 3. **After correctly appending the data, calculate the sum of all ages of people.**"
      ],
      "metadata": {
        "id": "3P4zx6jF9x3D"
      }
    },
    {
      "cell_type": "code",
      "source": [
        "# After correctly appending the data, calculate the sum of all ages of people.\n",
        "import duckdb\n",
        "\n",
        "# create a connection to destination\n",
        "conn = duckdb.connect(f'{generator_pipeline.pipeline_name}.duckdb')\n",
        "print(generator_pipeline.pipeline_name)\n",
        "\n",
        "# set the dataset\n",
        "conn.sql(f'SET search_path = {generator_pipeline.dataset_name}')\n",
        "print('Loaded tables: ')\n",
        "display(conn.sql('show tables'))\n",
        "\n",
        "# sample of table\n",
        "info = conn.sql('SELECT * from test_table limit 100')\n",
        "print('\\n-----------------------')\n",
        "print('Sample data (quite a small table, so it`s all the data)')\n",
        "print(info)\n",
        "\n",
        "# sum of all ages of people\n",
        "info = conn.sql('SELECT sum(age) sum_ages from test_table')\n",
        "print('\\n-----------------------')\n",
        "print('Sum of all ages of people')\n",
        "print(info)\n"
      ],
      "metadata": {
        "colab": {
          "base_uri": "https://localhost:8080/",
          "height": 802
        },
        "id": "sH7exIkItWSF",
        "outputId": "ee7c9209-4fdb-4261-f9ea-ec9511faca40"
      },
      "execution_count": 78,
      "outputs": [
        {
          "output_type": "stream",
          "name": "stdout",
          "text": [
            "dlt_colab_kernel_launcher\n",
            "Loaded tables: \n"
          ]
        },
        {
          "output_type": "display_data",
          "data": {
            "text/plain": [
              "┌─────────────────────┐\n",
              "│        name         │\n",
              "│       varchar       │\n",
              "├─────────────────────┤\n",
              "│ _dlt_loads          │\n",
              "│ _dlt_pipeline_state │\n",
              "│ _dlt_version        │\n",
              "│ test_table          │\n",
              "└─────────────────────┘"
            ]
          },
          "metadata": {}
        },
        {
          "output_type": "stream",
          "name": "stdout",
          "text": [
            "\n",
            "-----------------------\n",
            "Sample data (quite a small table, so it`s all the data)\n",
            "┌───────┬──────────┬───────┬─────────┬────────────────────┬────────────────┬────────────┐\n",
            "│  id   │   name   │  age  │  city   │    _dlt_load_id    │    _dlt_id     │ occupation │\n",
            "│ int64 │ varchar  │ int64 │ varchar │      varchar       │    varchar     │  varchar   │\n",
            "├───────┼──────────┼───────┼─────────┼────────────────────┼────────────────┼────────────┤\n",
            "│     1 │ Person_1 │    26 │ City_A  │ 1707955237.0338879 │ 7AxRRv9SdmUDNQ │ NULL       │\n",
            "│     2 │ Person_2 │    27 │ City_A  │ 1707955237.0338879 │ /HidbuaWqLfh5w │ NULL       │\n",
            "│     3 │ Person_3 │    28 │ City_A  │ 1707955237.0338879 │ S6E7u6X4x2QpQw │ NULL       │\n",
            "│     4 │ Person_4 │    29 │ City_A  │ 1707955237.0338879 │ raOrHZfcBTeljQ │ NULL       │\n",
            "│     5 │ Person_5 │    30 │ City_A  │ 1707955237.0338879 │ PQVSMyzw2Znjng │ NULL       │\n",
            "│     3 │ Person_3 │    33 │ City_B  │ 1707955241.2830498 │ JFWMVYCDtDuHSw │ Job_3      │\n",
            "│     4 │ Person_4 │    34 │ City_B  │ 1707955241.2830498 │ sm/uEN04AhtNwA │ Job_4      │\n",
            "│     5 │ Person_5 │    35 │ City_B  │ 1707955241.2830498 │ CpwHPguZyNoWPw │ Job_5      │\n",
            "│     6 │ Person_6 │    36 │ City_B  │ 1707955241.2830498 │ OTkl+IxIt/69NQ │ Job_6      │\n",
            "│     7 │ Person_7 │    37 │ City_B  │ 1707955241.2830498 │ mfqTUodJxMVy+Q │ Job_7      │\n",
            "│     8 │ Person_8 │    38 │ City_B  │ 1707955241.2830498 │ 0Wmijk5SYvXyRQ │ Job_8      │\n",
            "├───────┴──────────┴───────┴─────────┴────────────────────┴────────────────┴────────────┤\n",
            "│ 11 rows                                                                     7 columns │\n",
            "└───────────────────────────────────────────────────────────────────────────────────────┘\n",
            "\n",
            "\n",
            "-----------------------\n",
            "Sum of all ages of people\n",
            "┌──────────┐\n",
            "│ sum_ages │\n",
            "│  int128  │\n",
            "├──────────┤\n",
            "│      353 │\n",
            "└──────────┘\n",
            "\n"
          ]
        }
      ]
    },
    {
      "cell_type": "markdown",
      "source": [
        "## 3. Merge a generator\n",
        "\n",
        "Re-use the generators from Exercise 2.\n",
        "\n",
        "A table's primary key needs to be created from the start, so load your data to a new table with primary key ID.\n",
        "\n",
        "Load your first generator first, and then load the second one with merge. Since they have overlapping IDs, some of the records from the first load should be replaced by the ones from the second load.\n",
        "\n",
        "After loading, you should have a total of 8 records, and ID 3 should have age 33.\n",
        "\n",
        "Question: **Calculate the sum of ages of all the people loaded as described above.**"
      ],
      "metadata": {
        "id": "6Kc1FwNr83zk"
      }
    },
    {
      "cell_type": "code",
      "source": [
        "import dlt\n",
        "# generator = people_1()\n",
        "# for people in generator:\n",
        "generator_pipeline = dlt.pipeline(destination='duckdb', dataset_name='exercise_02')\n",
        "info = generator_pipeline.run(\n",
        "      people_1(),\n",
        "      table_name='test_table',\n",
        "      write_disposition='replace',\n",
        "      primary_key='id'\n",
        "  )\n",
        "print(info)\n",
        "\n",
        "# create a connection to destination\n",
        "conn = duckdb.connect(f'{generator_pipeline.pipeline_name}.duckdb')\n",
        "print(generator_pipeline.pipeline_name)\n",
        "\n",
        "# set the dataset\n",
        "conn.sql(f'SET search_path = {generator_pipeline.dataset_name}')\n",
        "print('Loaded tables: ')\n",
        "display(conn.sql('show tables'))\n",
        "\n",
        "# sample of table\n",
        "info = conn.sql('SELECT * from test_table limit 100')\n",
        "print('\\n-----------------------')\n",
        "print('Sample data (quite a small table, so it`s all the data)')\n",
        "print(info)\n",
        "\n",
        "# sum of all ages of people\n",
        "info = conn.sql('SELECT sum(age) from test_table')\n",
        "print('\\n-----------------------')\n",
        "print('Sum of all ages of people')\n",
        "print(info)\n"
      ],
      "metadata": {
        "id": "a2-PRBAkGC2K",
        "colab": {
          "base_uri": "https://localhost:8080/",
          "height": 729
        },
        "outputId": "547f90e1-10b0-432a-8436-08e452d5b0bd"
      },
      "execution_count": 79,
      "outputs": [
        {
          "output_type": "stream",
          "name": "stdout",
          "text": [
            "Pipeline dlt_colab_kernel_launcher load step completed in 0.18 seconds\n",
            "1 load package(s) were loaded to destination duckdb and into dataset exercise_02\n",
            "The duckdb destination used duckdb:////content/dlt_colab_kernel_launcher.duckdb location to store data\n",
            "Load package 1707955248.8420208 is LOADED and contains no failed jobs\n",
            "dlt_colab_kernel_launcher\n",
            "Loaded tables: \n"
          ]
        },
        {
          "output_type": "display_data",
          "data": {
            "text/plain": [
              "┌─────────────────────┐\n",
              "│        name         │\n",
              "│       varchar       │\n",
              "├─────────────────────┤\n",
              "│ _dlt_loads          │\n",
              "│ _dlt_pipeline_state │\n",
              "│ _dlt_version        │\n",
              "│ test_table          │\n",
              "└─────────────────────┘"
            ]
          },
          "metadata": {}
        },
        {
          "output_type": "stream",
          "name": "stdout",
          "text": [
            "\n",
            "-----------------------\n",
            "Sample data (quite a small table, so it`s all the data)\n",
            "┌───────┬──────────┬───────┬─────────┬────────────────────┬────────────────┬────────────┐\n",
            "│  id   │   name   │  age  │  city   │    _dlt_load_id    │    _dlt_id     │ occupation │\n",
            "│ int64 │ varchar  │ int64 │ varchar │      varchar       │    varchar     │  varchar   │\n",
            "├───────┼──────────┼───────┼─────────┼────────────────────┼────────────────┼────────────┤\n",
            "│     1 │ Person_1 │    26 │ City_A  │ 1707955248.8420208 │ iMSFYwAwkLjqiQ │ NULL       │\n",
            "│     2 │ Person_2 │    27 │ City_A  │ 1707955248.8420208 │ odXabrrTOj0cDg │ NULL       │\n",
            "│     3 │ Person_3 │    28 │ City_A  │ 1707955248.8420208 │ tkA5voJHIJwHew │ NULL       │\n",
            "│     4 │ Person_4 │    29 │ City_A  │ 1707955248.8420208 │ zyzsyLVpH0Sv2w │ NULL       │\n",
            "│     5 │ Person_5 │    30 │ City_A  │ 1707955248.8420208 │ lfY1K5V4YdUxZQ │ NULL       │\n",
            "└───────┴──────────┴───────┴─────────┴────────────────────┴────────────────┴────────────┘\n",
            "\n",
            "\n",
            "-----------------------\n",
            "Sum of all ages of people\n",
            "┌──────────┐\n",
            "│ sum(age) │\n",
            "│  int128  │\n",
            "├──────────┤\n",
            "│      140 │\n",
            "└──────────┘\n",
            "\n"
          ]
        }
      ]
    },
    {
      "cell_type": "code",
      "source": [
        "import dlt\n",
        "# generator = people_2()\n",
        "# for people in generator:\n",
        "\n",
        "generator_pipeline = dlt.pipeline(destination='duckdb', dataset_name='exercise_02')\n",
        "info = generator_pipeline.run(\n",
        "      people_2(),\n",
        "      table_name='test_table',\n",
        "      write_disposition='merge',\n",
        "      primary_key='id'\n",
        "  )\n",
        "print(info)\n",
        "\n",
        "# create a connection to destination\n",
        "conn = duckdb.connect(f'{generator_pipeline.pipeline_name}.duckdb')\n",
        "print(generator_pipeline.pipeline_name)\n",
        "\n",
        "# set the dataset\n",
        "conn.sql(f'SET search_path = {generator_pipeline.dataset_name}')\n",
        "print('Loaded tables: ')\n",
        "display(conn.sql('show tables'))\n",
        "\n",
        "# sample of table\n",
        "info = conn.sql('SELECT * from test_table limit 100')\n",
        "print('\\n-----------------------')\n",
        "print('Sample data (quite a small table, so it`s all the data)')\n",
        "print(info)\n",
        "\n",
        "# sum of all ages of people\n",
        "info = conn.sql('SELECT sum(age) from test_table')\n",
        "print('\\n-----------------------')\n",
        "print('Sum of all ages of people')\n",
        "print(info)\n",
        "\n"
      ],
      "metadata": {
        "colab": {
          "base_uri": "https://localhost:8080/",
          "height": 784
        },
        "id": "2iT_I45n5xCD",
        "outputId": "bfebab6f-fed1-4176-d63f-393aa15d313e"
      },
      "execution_count": 80,
      "outputs": [
        {
          "output_type": "stream",
          "name": "stdout",
          "text": [
            "Pipeline dlt_colab_kernel_launcher load step completed in 0.33 seconds\n",
            "1 load package(s) were loaded to destination duckdb and into dataset exercise_02\n",
            "The duckdb destination used duckdb:////content/dlt_colab_kernel_launcher.duckdb location to store data\n",
            "Load package 1707955253.588736 is LOADED and contains no failed jobs\n",
            "dlt_colab_kernel_launcher\n",
            "Loaded tables: \n"
          ]
        },
        {
          "output_type": "display_data",
          "data": {
            "text/plain": [
              "┌─────────────────────┐\n",
              "│        name         │\n",
              "│       varchar       │\n",
              "├─────────────────────┤\n",
              "│ _dlt_loads          │\n",
              "│ _dlt_pipeline_state │\n",
              "│ _dlt_version        │\n",
              "│ test_table          │\n",
              "└─────────────────────┘"
            ]
          },
          "metadata": {}
        },
        {
          "output_type": "stream",
          "name": "stdout",
          "text": [
            "\n",
            "-----------------------\n",
            "Sample data (quite a small table, so it`s all the data)\n",
            "┌───────┬──────────┬───────┬─────────┬────────────────────┬────────────────┬────────────┐\n",
            "│  id   │   name   │  age  │  city   │    _dlt_load_id    │    _dlt_id     │ occupation │\n",
            "│ int64 │ varchar  │ int64 │ varchar │      varchar       │    varchar     │  varchar   │\n",
            "├───────┼──────────┼───────┼─────────┼────────────────────┼────────────────┼────────────┤\n",
            "│     1 │ Person_1 │    26 │ City_A  │ 1707955248.8420208 │ iMSFYwAwkLjqiQ │ NULL       │\n",
            "│     2 │ Person_2 │    27 │ City_A  │ 1707955248.8420208 │ odXabrrTOj0cDg │ NULL       │\n",
            "│     5 │ Person_5 │    35 │ City_B  │ 1707955253.588736  │ F85KYWItJ79czQ │ Job_5      │\n",
            "│     8 │ Person_8 │    38 │ City_B  │ 1707955253.588736  │ ObM8A46uzEFenA │ Job_8      │\n",
            "│     7 │ Person_7 │    37 │ City_B  │ 1707955253.588736  │ haJHpXMRZR9/bQ │ Job_7      │\n",
            "│     4 │ Person_4 │    34 │ City_B  │ 1707955253.588736  │ JKWYLZDSz7hqKw │ Job_4      │\n",
            "│     3 │ Person_3 │    33 │ City_B  │ 1707955253.588736  │ 6U9sBBlItlTBAg │ Job_3      │\n",
            "│     6 │ Person_6 │    36 │ City_B  │ 1707955253.588736  │ ZRgXPEjouEbD2A │ Job_6      │\n",
            "└───────┴──────────┴───────┴─────────┴────────────────────┴────────────────┴────────────┘\n",
            "\n",
            "\n",
            "-----------------------\n",
            "Sum of all ages of people\n",
            "┌──────────┐\n",
            "│ sum(age) │\n",
            "│  int128  │\n",
            "├──────────┤\n",
            "│      266 │\n",
            "└──────────┘\n",
            "\n"
          ]
        }
      ]
    },
    {
      "cell_type": "markdown",
      "source": [
        "Questions? difficulties? We are here to help.\n",
        "- DTC data engineering course channel: https://datatalks-club.slack.com/archives/C01FABYF2RG\n",
        "- dlt's DTC cohort channel: https://dlthub-community.slack.com/archives/C06GAEX2VNX"
      ],
      "metadata": {
        "id": "PoTJu4kbGG0z"
      }
    }
  ]
}