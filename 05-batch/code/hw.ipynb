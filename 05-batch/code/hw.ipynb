{
 "cells": [
  {
   "cell_type": "code",
   "execution_count": 1,
   "id": "a91de759",
   "metadata": {},
   "outputs": [],
   "source": [
    "import pyspark\n",
    "from pyspark.sql import SparkSession\n",
    "from pyspark.sql import types\n",
    "from pyspark.sql import functions as F"
   ]
  },
  {
   "cell_type": "code",
   "execution_count": null,
   "id": "1b50cd9c-6117-4720-b5cc-ffa0d5185940",
   "metadata": {},
   "outputs": [],
   "source": [
    "spark = SparkSession.builder \\\n",
    "    .master(\"local[*]\") \\\n",
    "    .appName('test') \\\n",
    "    .getOrCreate()"
   ]
  },
  {
   "cell_type": "markdown",
   "id": "1d332184-82bf-4560-b365-f8c9f79068a1",
   "metadata": {},
   "source": [
    "### Q1"
   ]
  },
  {
   "cell_type": "code",
   "execution_count": 3,
   "id": "089a9260-e8ac-42d4-bfc5-495daac40479",
   "metadata": {},
   "outputs": [
    {
     "data": {
      "text/plain": [
       "'3.4.2'"
      ]
     },
     "execution_count": 3,
     "metadata": {},
     "output_type": "execute_result"
    }
   ],
   "source": [
    "spark.version"
   ]
  },
  {
   "cell_type": "code",
   "execution_count": null,
   "id": "b3499fab-9ebf-4a48-bb09-9b9861696453",
   "metadata": {},
   "outputs": [],
   "source": [
    "!wget https://github.com/DataTalksClub/nyc-tlc-data/releases/download/fhv/fhv_tripdata_2019-10.csv.gz"
   ]
  },
  {
   "cell_type": "code",
   "execution_count": null,
   "id": "3369f41e-23cf-4b76-bff7-3b88550eb5a6",
   "metadata": {},
   "outputs": [],
   "source": []
  },
  {
   "cell_type": "code",
   "execution_count": 24,
   "id": "baba2089-bf4b-46ae-82ba-998b51e21c07",
   "metadata": {},
   "outputs": [],
   "source": [
    "schema = types.StructType(\n",
    "\t[\n",
    "\t\ttypes.StructField('dispatching_base_num', types.StringType(), True), \n",
    "\t\ttypes.StructField('pickup_datetime', types.TimestampType(), True), \n",
    "\t\ttypes.StructField('dropOff_datetime', types.TimestampType(), True), \n",
    "\t\ttypes.StructField('PUlocationID', types.IntegerType(), True), \n",
    "\t\ttypes.StructField('DOlocationID', types.IntegerType(), True), \n",
    "\t\ttypes.StructField('SR_Flag', types.StringType(), True), \n",
    "\t\ttypes.StructField('Affiliated_base_number', types.StringType(), True)\n",
    "\t]\n",
    ")\n"
   ]
  },
  {
   "cell_type": "code",
   "execution_count": 8,
   "id": "84f0cbf1-e9fd-489a-a884-7df30e38f224",
   "metadata": {},
   "outputs": [],
   "source": [
    "df = spark.read \\\n",
    "    .option('header','true') \\\n",
    "    .schema(schema) \\\n",
    "    .csv('fhv_tripdata_2019-10.csv.gz')"
   ]
  },
  {
   "cell_type": "code",
   "execution_count": 9,
   "id": "f7a5e4d1-5e3c-4afa-b98e-502c9d6d467f",
   "metadata": {},
   "outputs": [
    {
     "name": "stdout",
     "output_type": "stream",
     "text": [
      "+--------------------+-------------------+-------------------+------------+------------+-------+----------------------+\n",
      "|dispatching_base_num|    pickup_datetime|   dropOff_datetime|PUlocationID|DOlocationID|SR_Flag|Affiliated_base_number|\n",
      "+--------------------+-------------------+-------------------+------------+------------+-------+----------------------+\n",
      "|              B00009|2019-10-01 00:23:00|2019-10-01 00:35:00|         264|         264|   null|                B00009|\n",
      "|              B00013|2019-10-01 00:11:29|2019-10-01 00:13:22|         264|         264|   null|                B00013|\n",
      "|              B00014|2019-10-01 00:11:43|2019-10-01 00:37:20|         264|         264|   null|                B00014|\n",
      "|              B00014|2019-10-01 00:56:29|2019-10-01 00:57:47|         264|         264|   null|                B00014|\n",
      "|              B00014|2019-10-01 00:23:09|2019-10-01 00:28:27|         264|         264|   null|                B00014|\n",
      "|     B00021         |2019-10-01 00:00:48|2019-10-01 00:07:12|         129|         129|   null|       B00021         |\n",
      "|     B00021         |2019-10-01 00:47:23|2019-10-01 00:53:25|          57|          57|   null|       B00021         |\n",
      "|     B00021         |2019-10-01 00:10:06|2019-10-01 00:19:50|         173|         173|   null|       B00021         |\n",
      "|     B00021         |2019-10-01 00:51:37|2019-10-01 01:06:14|         226|         226|   null|       B00021         |\n",
      "|     B00021         |2019-10-01 00:28:23|2019-10-01 00:34:33|          56|          56|   null|       B00021         |\n",
      "|     B00021         |2019-10-01 00:31:17|2019-10-01 00:51:52|          82|          82|   null|       B00021         |\n",
      "|              B00037|2019-10-01 00:07:41|2019-10-01 00:15:23|         264|          71|   null|                B00037|\n",
      "|              B00037|2019-10-01 00:13:38|2019-10-01 00:25:51|         264|          39|   null|                B00037|\n",
      "|              B00037|2019-10-01 00:42:40|2019-10-01 00:53:47|         264|         188|   null|                B00037|\n",
      "|              B00037|2019-10-01 00:58:46|2019-10-01 01:10:11|         264|          91|   null|                B00037|\n",
      "|              B00037|2019-10-01 00:09:49|2019-10-01 00:14:37|         264|          71|   null|                B00037|\n",
      "|              B00037|2019-10-01 00:22:35|2019-10-01 00:36:53|         264|          35|   null|                B00037|\n",
      "|              B00037|2019-10-01 00:54:27|2019-10-01 01:03:37|         264|          61|   null|                B00037|\n",
      "|              B00037|2019-10-01 00:08:12|2019-10-01 00:28:47|         264|         198|   null|                B00037|\n",
      "|              B00053|2019-10-01 00:05:24|2019-10-01 00:53:03|         264|         264|   null|                  #N/A|\n",
      "+--------------------+-------------------+-------------------+------------+------------+-------+----------------------+\n",
      "only showing top 20 rows\n",
      "\n"
     ]
    }
   ],
   "source": [
    "df.show()\n"
   ]
  },
  {
   "cell_type": "code",
   "execution_count": 20,
   "id": "fbaa83c1-6e8e-4023-b2f5-5f11991a4085",
   "metadata": {},
   "outputs": [
    {
     "data": {
      "text/plain": [
       "StructType([StructField('dispatching_base_num', StringType(), True), StructField('pickup_datetime', TimestampType(), True), StructField('dropOff_datetime', TimestampType(), True), StructField('PUlocationID', IntegerType(), True), StructField('DOlocationID', IntegerType(), True), StructField('SR_Flag', StringType(), True), StructField('Affiliated_base_number', StringType(), True)])"
      ]
     },
     "execution_count": 20,
     "metadata": {},
     "output_type": "execute_result"
    }
   ],
   "source": [
    "df.schema"
   ]
  },
  {
   "cell_type": "code",
   "execution_count": 24,
   "id": "405b282d-b1ed-4ac2-8d0c-22e5406fd07d",
   "metadata": {},
   "outputs": [
    {
     "name": "stderr",
     "output_type": "stream",
     "text": [
      "                                                                                \r"
     ]
    }
   ],
   "source": [
    "df.repartition(6).write.parquet('data/pq/fhvhv/2019/10/')"
   ]
  },
  {
   "cell_type": "markdown",
   "id": "54e28983-1d4f-4df7-8e84-43ed1e742937",
   "metadata": {},
   "source": [
    "### Q2"
   ]
  },
  {
   "cell_type": "code",
   "execution_count": 26,
   "id": "e1e2651d-9c4e-4ab7-b6a8-2fbdbad39dbc",
   "metadata": {},
   "outputs": [
    {
     "name": "stdout",
     "output_type": "stream",
     "text": [
      "total 39M\n",
      "-rw-r--r-- 1 pedro pedro 6,4M mar  6 17:29 part-00000-1aa62fe7-64b8-49c1-8a1b-38b3982c7ea2-c000.snappy.parquet\n",
      "-rw-r--r-- 1 pedro pedro 6,4M mar  6 17:29 part-00001-1aa62fe7-64b8-49c1-8a1b-38b3982c7ea2-c000.snappy.parquet\n",
      "-rw-r--r-- 1 pedro pedro 6,4M mar  6 17:29 part-00002-1aa62fe7-64b8-49c1-8a1b-38b3982c7ea2-c000.snappy.parquet\n",
      "-rw-r--r-- 1 pedro pedro 6,4M mar  6 17:29 part-00003-1aa62fe7-64b8-49c1-8a1b-38b3982c7ea2-c000.snappy.parquet\n",
      "-rw-r--r-- 1 pedro pedro 6,4M mar  6 17:29 part-00004-1aa62fe7-64b8-49c1-8a1b-38b3982c7ea2-c000.snappy.parquet\n",
      "-rw-r--r-- 1 pedro pedro 6,4M mar  6 17:29 part-00005-1aa62fe7-64b8-49c1-8a1b-38b3982c7ea2-c000.snappy.parquet\n",
      "-rw-r--r-- 1 pedro pedro    0 mar  6 17:29 _SUCCESS\n"
     ]
    }
   ],
   "source": [
    "!ls -lh ./data/pq/fhvhv/2019/10/\n"
   ]
  },
  {
   "cell_type": "markdown",
   "id": "0a981434-b5a6-4376-a957-b9184a327909",
   "metadata": {},
   "source": [
    "### Q3"
   ]
  },
  {
   "cell_type": "code",
   "execution_count": 10,
   "id": "c85ecb1c-2d88-4250-a990-11cf70d07386",
   "metadata": {},
   "outputs": [],
   "source": [
    "# df.registerTempTable('tmp_table')\n",
    "df.createOrReplaceTempView('tmp_table')"
   ]
  },
  {
   "cell_type": "code",
   "execution_count": 35,
   "id": "b24b40e1-5caa-4ea8-9bb0-79bb8e4c2c25",
   "metadata": {},
   "outputs": [
    {
     "name": "stderr",
     "output_type": "stream",
     "text": [
      "[Stage 18:>                                                         (0 + 1) / 1]\r"
     ]
    },
    {
     "name": "stdout",
     "output_type": "stream",
     "text": [
      "+--------+\n",
      "|count(1)|\n",
      "+--------+\n",
      "|   62610|\n",
      "+--------+\n",
      "\n"
     ]
    },
    {
     "name": "stderr",
     "output_type": "stream",
     "text": [
      "                                                                                \r"
     ]
    }
   ],
   "source": [
    "spark.sql('''\n",
    "    SELECT count(1) FROM tmp_table\n",
    "    WHERE to_date(pickup_datetime) = \"2019-10-15\" \n",
    "''').show()"
   ]
  },
  {
   "cell_type": "markdown",
   "id": "3e7b1da6-96aa-4104-8611-2de5f6429b56",
   "metadata": {},
   "source": [
    "### Q4"
   ]
  },
  {
   "cell_type": "code",
   "execution_count": 59,
   "id": "703f8fee-2a0e-40b9-a78d-4562ee55ef65",
   "metadata": {},
   "outputs": [
    {
     "name": "stderr",
     "output_type": "stream",
     "text": [
      "[Stage 46:>                                                         (0 + 1) / 1]\r"
     ]
    },
    {
     "name": "stdout",
     "output_type": "stream",
     "text": [
      "+-----------+--------+\n",
      "|pickup_date|duration|\n",
      "+-----------+--------+\n",
      "| 2019-10-11|  631152|\n",
      "+-----------+--------+\n",
      "\n"
     ]
    },
    {
     "name": "stderr",
     "output_type": "stream",
     "text": [
      "                                                                                \r"
     ]
    }
   ],
   "source": [
    "spark.sql('''\n",
    "    SELECT\n",
    "    TO_DATE(pickup_datetime) AS pickup_date\n",
    "    ,DATEDIFF(hour, pickup_datetime, dropOff_datetime) AS duration\n",
    "    FROM\n",
    "        tmp_table\n",
    "    ORDER BY\n",
    "        duration desc\n",
    "    LIMIT 1\n",
    "''').show()"
   ]
  },
  {
   "cell_type": "code",
   "execution_count": null,
   "id": "0e2b16e1-82a2-4dd8-8b84-144452be4910",
   "metadata": {},
   "outputs": [],
   "source": []
  },
  {
   "cell_type": "markdown",
   "id": "a20c25e2-2f72-416d-b3cd-c83dd1b58d05",
   "metadata": {},
   "source": [
    "### Q6"
   ]
  },
  {
   "cell_type": "code",
   "execution_count": null,
   "id": "2dd8054d-c04a-44e2-8f42-4502306ce265",
   "metadata": {},
   "outputs": [],
   "source": [
    "!wget https://github.com/DataTalksClub/nyc-tlc-data/releases/download/misc/taxi_zone_lookup.csv"
   ]
  },
  {
   "cell_type": "code",
   "execution_count": 25,
   "id": "2d0c3193-60af-4eaf-b5f9-cacd80d90cb1",
   "metadata": {},
   "outputs": [],
   "source": [
    "df_zones = spark.read \\\n",
    "    .option('header', 'true') \\\n",
    "    .schema(zones_schema) \\\n",
    "    .csv('taxi_zone_lookup.csv')"
   ]
  },
  {
   "cell_type": "code",
   "execution_count": 21,
   "id": "e94bd5cd-ca57-4e3d-93be-dbeeb7851867",
   "metadata": {
    "scrolled": true
   },
   "outputs": [
    {
     "data": {
      "text/plain": [
       "StructType([StructField('LocationID', StringType(), True), StructField('Borough', StringType(), True), StructField('Zone', StringType(), True), StructField('service_zone', StringType(), True)])"
      ]
     },
     "execution_count": 21,
     "metadata": {},
     "output_type": "execute_result"
    }
   ],
   "source": [
    "df_zones.schema"
   ]
  },
  {
   "cell_type": "code",
   "execution_count": 23,
   "id": "13e6956b-06b6-4a26-959c-c106301f9537",
   "metadata": {},
   "outputs": [],
   "source": [
    "zones_schema = types.StructType(\n",
    "    [\n",
    "        types.StructField('LocationID', types.IntegerType(), True), \n",
    "        types.StructField('Borough', types.StringType(), True), \n",
    "        types.StructField('Zone', types.StringType(), True), \n",
    "        types.StructField('service_zone', types.StringType(), True)\n",
    "    ]\n",
    ")\n"
   ]
  },
  {
   "cell_type": "code",
   "execution_count": 27,
   "id": "a9471a11-c3af-4136-98be-d18c0985750d",
   "metadata": {},
   "outputs": [],
   "source": [
    "df_zones.createOrReplaceTempView('tmp_zones')"
   ]
  },
  {
   "cell_type": "code",
   "execution_count": 20,
   "id": "fbbea4c0-211c-4af0-b8f1-eeaff3c73622",
   "metadata": {},
   "outputs": [
    {
     "name": "stdout",
     "output_type": "stream",
     "text": [
      "+----------+-------------+--------------------+------------+\n",
      "|LocationID|      Borough|                Zone|service_zone|\n",
      "+----------+-------------+--------------------+------------+\n",
      "|         1|          EWR|      Newark Airport|         EWR|\n",
      "|         2|       Queens|         Jamaica Bay|   Boro Zone|\n",
      "|         3|        Bronx|Allerton/Pelham G...|   Boro Zone|\n",
      "|         4|    Manhattan|       Alphabet City| Yellow Zone|\n",
      "|         5|Staten Island|       Arden Heights|   Boro Zone|\n",
      "|         6|Staten Island|Arrochar/Fort Wad...|   Boro Zone|\n",
      "|         7|       Queens|             Astoria|   Boro Zone|\n",
      "|         8|       Queens|        Astoria Park|   Boro Zone|\n",
      "|         9|       Queens|          Auburndale|   Boro Zone|\n",
      "|        10|       Queens|        Baisley Park|   Boro Zone|\n",
      "|        11|     Brooklyn|          Bath Beach|   Boro Zone|\n",
      "|        12|    Manhattan|        Battery Park| Yellow Zone|\n",
      "|        13|    Manhattan|   Battery Park City| Yellow Zone|\n",
      "|        14|     Brooklyn|           Bay Ridge|   Boro Zone|\n",
      "|        15|       Queens|Bay Terrace/Fort ...|   Boro Zone|\n",
      "|        16|       Queens|             Bayside|   Boro Zone|\n",
      "|        17|     Brooklyn|             Bedford|   Boro Zone|\n",
      "|        18|        Bronx|        Bedford Park|   Boro Zone|\n",
      "|        19|       Queens|           Bellerose|   Boro Zone|\n",
      "|        20|        Bronx|             Belmont|   Boro Zone|\n",
      "+----------+-------------+--------------------+------------+\n",
      "only showing top 20 rows\n",
      "\n"
     ]
    }
   ],
   "source": [
    "df_zones.show()"
   ]
  },
  {
   "cell_type": "code",
   "execution_count": 32,
   "id": "1ae23923-ae1c-4992-be7f-1887924f3f25",
   "metadata": {},
   "outputs": [
    {
     "name": "stderr",
     "output_type": "stream",
     "text": [
      "[Stage 22:>                                                         (0 + 1) / 1]\r"
     ]
    },
    {
     "name": "stdout",
     "output_type": "stream",
     "text": [
      "+------------+-------------+--------------------+-----+\n",
      "|PUlocationID|      Borough|                Zone|rides|\n",
      "+------------+-------------+--------------------+-----+\n",
      "|           2|       Queens|         Jamaica Bay|    1|\n",
      "|         105|    Manhattan|Governor's Island...|    2|\n",
      "|         111|     Brooklyn| Green-Wood Cemetery|    5|\n",
      "|          30|       Queens|       Broad Channel|    8|\n",
      "|         120|    Manhattan|     Highbridge Park|   14|\n",
      "|          12|    Manhattan|        Battery Park|   15|\n",
      "|         207|       Queens|Saint Michaels Ce...|   23|\n",
      "|          27|       Queens|Breezy Point/Fort...|   25|\n",
      "|         154|     Brooklyn|Marine Park/Floyd...|   26|\n",
      "|           8|       Queens|        Astoria Park|   29|\n",
      "|         128|    Manhattan|    Inwood Hill Park|   39|\n",
      "|         253|       Queens|       Willets Point|   47|\n",
      "|          96|       Queens|Forest Park/Highl...|   53|\n",
      "|          34|     Brooklyn|  Brooklyn Navy Yard|   57|\n",
      "|          59|        Bronx|        Crotona Park|   62|\n",
      "|          58|        Bronx|        Country Club|   77|\n",
      "|          99|Staten Island|     Freshkills Park|   89|\n",
      "|         190|     Brooklyn|       Prospect Park|   98|\n",
      "|          54|     Brooklyn|     Columbia Street|  105|\n",
      "|         217|     Brooklyn|  South Williamsburg|  110|\n",
      "+------------+-------------+--------------------+-----+\n",
      "only showing top 20 rows\n",
      "\n"
     ]
    },
    {
     "name": "stderr",
     "output_type": "stream",
     "text": [
      "                                                                                \r"
     ]
    }
   ],
   "source": [
    "spark.sql('''\n",
    "    SELECT \n",
    "    tmp_table.PUlocationID\n",
    "    ,tmp_zones.Borough\n",
    "    ,tmp_zones.Zone\n",
    "    ,COUNT(1) rides\n",
    "    FROM \n",
    "        tmp_table\n",
    "    LEFT JOIN\n",
    "        tmp_zones\n",
    "    ON\n",
    "        tmp_table.PUlocationID = tmp_zones.LocationID\n",
    "    GROUP BY\n",
    "        1, 2, 3\n",
    "    ORDER BY 4 ASC\n",
    "''').show()"
   ]
  }
 ],
 "metadata": {
  "kernelspec": {
   "display_name": "Python 3 (ipykernel)",
   "language": "python",
   "name": "python3"
  },
  "language_info": {
   "codemirror_mode": {
    "name": "ipython",
    "version": 3
   },
   "file_extension": ".py",
   "mimetype": "text/x-python",
   "name": "python",
   "nbconvert_exporter": "python",
   "pygments_lexer": "ipython3",
   "version": "3.10.12"
  }
 },
 "nbformat": 4,
 "nbformat_minor": 5
}
