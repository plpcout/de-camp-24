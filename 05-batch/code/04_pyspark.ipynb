{
 "cells": [
  {
   "cell_type": "code",
   "execution_count": 1,
   "id": "90f58ccd-620e-4660-8e23-fb5311d22f4d",
   "metadata": {},
   "outputs": [
    {
     "data": {
      "text/plain": [
       "'3.4.2'"
      ]
     },
     "execution_count": 1,
     "metadata": {},
     "output_type": "execute_result"
    }
   ],
   "source": [
    "import pyspark\n",
    "from pyspark.sql import SparkSession\n",
    "pyspark.__version__"
   ]
  },
  {
   "cell_type": "code",
   "execution_count": 2,
   "id": "a580175a-cb34-46eb-a016-edfe5855b430",
   "metadata": {},
   "outputs": [
    {
     "name": "stderr",
     "output_type": "stream",
     "text": [
      "24/03/03 16:40:06 WARN Utils: Your hostname, pedro resolves to a loopback address: 127.0.1.1; using 192.168.15.20 instead (on interface wlp5s0)\n",
      "24/03/03 16:40:06 WARN Utils: Set SPARK_LOCAL_IP if you need to bind to another address\n",
      "Setting default log level to \"WARN\".\n",
      "To adjust logging level use sc.setLogLevel(newLevel). For SparkR, use setLogLevel(newLevel).\n",
      "24/03/03 16:40:06 WARN NativeCodeLoader: Unable to load native-hadoop library for your platform... using builtin-java classes where applicable\n",
      "24/03/03 16:40:07 WARN Utils: Service 'SparkUI' could not bind on port 4040. Attempting port 4041.\n"
     ]
    }
   ],
   "source": [
    "spark = SparkSession.builder \\\n",
    "    .master(\"local[*]\") \\\n",
    "    .appName('test') \\\n",
    "    .getOrCreate()"
   ]
  },
  {
   "cell_type": "code",
   "execution_count": null,
   "id": "ce6259ed-12c5-4378-9337-f59d8f6e54a4",
   "metadata": {},
   "outputs": [],
   "source": [
    "!wget https://d37ci6vzurychx.cloudfront.net/trip-data/fhvhv_tripdata_2021-01.parquet"
   ]
  },
  {
   "cell_type": "code",
   "execution_count": 3,
   "id": "5eb8a1fa-d337-43e1-bfbd-16cb3741ede2",
   "metadata": {},
   "outputs": [
    {
     "data": {
      "text/plain": [
       "'2.1.3'"
      ]
     },
     "execution_count": 3,
     "metadata": {},
     "output_type": "execute_result"
    }
   ],
   "source": [
    "import pandas as pd\n",
    "pd.__version__"
   ]
  },
  {
   "cell_type": "code",
   "execution_count": null,
   "id": "64091909-557d-43f1-bc44-4e4e359d3f4c",
   "metadata": {
    "scrolled": true
   },
   "outputs": [],
   "source": [
    "# the original demo uses a csv file\n",
    "# thus, optional - parquet to csv if neededto follow along\n",
    "df = pd.read_parquet('fhvhv_tripdata_2021-01.parquet')\n",
    "df.to_csv('fhvhv_tripdata_2021-01.csv')\n",
    "df"
   ]
  },
  {
   "cell_type": "code",
   "execution_count": 19,
   "id": "8979342b-f89d-4ea8-b7ef-8c25a65f2285",
   "metadata": {},
   "outputs": [],
   "source": [
    "df = spark.read \\\n",
    "    .option('header', 'true') \\\n",
    "    .parquet('fhvhv_tripdata_2021-01.parquet')"
   ]
  },
  {
   "cell_type": "code",
   "execution_count": 21,
   "id": "47c66465-26de-4aac-9467-bf7510522d15",
   "metadata": {
    "scrolled": true
   },
   "outputs": [
    {
     "data": {
      "text/plain": [
       "StructType([StructField('hvfhs_license_num', StringType(), True), StructField('dispatching_base_num', StringType(), True), StructField('originating_base_num', StringType(), True), StructField('request_datetime', TimestampType(), True), StructField('on_scene_datetime', TimestampType(), True), StructField('pickup_datetime', TimestampType(), True), StructField('dropoff_datetime', TimestampType(), True), StructField('PULocationID', LongType(), True), StructField('DOLocationID', LongType(), True), StructField('trip_miles', DoubleType(), True), StructField('trip_time', LongType(), True), StructField('base_passenger_fare', DoubleType(), True), StructField('tolls', DoubleType(), True), StructField('bcf', DoubleType(), True), StructField('sales_tax', DoubleType(), True), StructField('congestion_surcharge', DoubleType(), True), StructField('airport_fee', DoubleType(), True), StructField('tips', DoubleType(), True), StructField('driver_pay', DoubleType(), True), StructField('shared_request_flag', StringType(), True), StructField('shared_match_flag', StringType(), True), StructField('access_a_ride_flag', StringType(), True), StructField('wav_request_flag', StringType(), True), StructField('wav_match_flag', StringType(), True)])"
      ]
     },
     "execution_count": 21,
     "metadata": {},
     "output_type": "execute_result"
    }
   ],
   "source": [
    "df.schema"
   ]
  },
  {
   "cell_type": "code",
   "execution_count": null,
   "id": "a79c5734-b77a-4c73-b103-d024522bba2b",
   "metadata": {
    "scrolled": true
   },
   "outputs": [],
   "source": [
    "df.head(5)"
   ]
  },
  {
   "cell_type": "code",
   "execution_count": null,
   "id": "d6a62725-5b67-434b-919e-3cf9d37113f2",
   "metadata": {
    "scrolled": true
   },
   "outputs": [],
   "source": [
    "df.show()"
   ]
  },
  {
   "cell_type": "code",
   "execution_count": 27,
   "id": "c686a4a6-37f6-44f0-8723-0614723464d3",
   "metadata": {},
   "outputs": [],
   "source": [
    "#using a sample of the entire file\n",
    "!head -n 1001 fhvhv_tripdata_2021-01.csv > head.csv"
   ]
  },
  {
   "cell_type": "code",
   "execution_count": 4,
   "id": "c495c6f4-8089-4c3b-8acb-c5f4f04d929b",
   "metadata": {},
   "outputs": [
    {
     "data": {
      "text/html": [
       "<div>\n",
       "<style scoped>\n",
       "    .dataframe tbody tr th:only-of-type {\n",
       "        vertical-align: middle;\n",
       "    }\n",
       "\n",
       "    .dataframe tbody tr th {\n",
       "        vertical-align: top;\n",
       "    }\n",
       "\n",
       "    .dataframe thead th {\n",
       "        text-align: right;\n",
       "    }\n",
       "</style>\n",
       "<table border=\"1\" class=\"dataframe\">\n",
       "  <thead>\n",
       "    <tr style=\"text-align: right;\">\n",
       "      <th></th>\n",
       "      <th>Unnamed: 0</th>\n",
       "      <th>hvfhs_license_num</th>\n",
       "      <th>dispatching_base_num</th>\n",
       "      <th>originating_base_num</th>\n",
       "      <th>request_datetime</th>\n",
       "      <th>on_scene_datetime</th>\n",
       "      <th>pickup_datetime</th>\n",
       "      <th>dropoff_datetime</th>\n",
       "      <th>PULocationID</th>\n",
       "      <th>DOLocationID</th>\n",
       "      <th>...</th>\n",
       "      <th>sales_tax</th>\n",
       "      <th>congestion_surcharge</th>\n",
       "      <th>airport_fee</th>\n",
       "      <th>tips</th>\n",
       "      <th>driver_pay</th>\n",
       "      <th>shared_request_flag</th>\n",
       "      <th>shared_match_flag</th>\n",
       "      <th>access_a_ride_flag</th>\n",
       "      <th>wav_request_flag</th>\n",
       "      <th>wav_match_flag</th>\n",
       "    </tr>\n",
       "  </thead>\n",
       "  <tbody>\n",
       "    <tr>\n",
       "      <th>0</th>\n",
       "      <td>0</td>\n",
       "      <td>HV0003</td>\n",
       "      <td>B02682</td>\n",
       "      <td>B02682</td>\n",
       "      <td>2021-01-01 00:28:09</td>\n",
       "      <td>2021-01-01 00:31:42</td>\n",
       "      <td>2021-01-01 00:33:44</td>\n",
       "      <td>2021-01-01 00:49:07</td>\n",
       "      <td>230</td>\n",
       "      <td>166</td>\n",
       "      <td>...</td>\n",
       "      <td>1.98</td>\n",
       "      <td>2.75</td>\n",
       "      <td>NaN</td>\n",
       "      <td>0.00</td>\n",
       "      <td>14.99</td>\n",
       "      <td>N</td>\n",
       "      <td>N</td>\n",
       "      <td></td>\n",
       "      <td>N</td>\n",
       "      <td>N</td>\n",
       "    </tr>\n",
       "    <tr>\n",
       "      <th>1</th>\n",
       "      <td>1</td>\n",
       "      <td>HV0003</td>\n",
       "      <td>B02682</td>\n",
       "      <td>B02682</td>\n",
       "      <td>2021-01-01 00:45:56</td>\n",
       "      <td>2021-01-01 00:55:19</td>\n",
       "      <td>2021-01-01 00:55:19</td>\n",
       "      <td>2021-01-01 01:18:21</td>\n",
       "      <td>152</td>\n",
       "      <td>167</td>\n",
       "      <td>...</td>\n",
       "      <td>1.63</td>\n",
       "      <td>0.00</td>\n",
       "      <td>NaN</td>\n",
       "      <td>0.00</td>\n",
       "      <td>17.06</td>\n",
       "      <td>N</td>\n",
       "      <td>N</td>\n",
       "      <td></td>\n",
       "      <td>N</td>\n",
       "      <td>N</td>\n",
       "    </tr>\n",
       "    <tr>\n",
       "      <th>2</th>\n",
       "      <td>2</td>\n",
       "      <td>HV0003</td>\n",
       "      <td>B02764</td>\n",
       "      <td>B02764</td>\n",
       "      <td>2021-01-01 00:21:15</td>\n",
       "      <td>2021-01-01 00:22:41</td>\n",
       "      <td>2021-01-01 00:23:56</td>\n",
       "      <td>2021-01-01 00:38:05</td>\n",
       "      <td>233</td>\n",
       "      <td>142</td>\n",
       "      <td>...</td>\n",
       "      <td>1.25</td>\n",
       "      <td>2.75</td>\n",
       "      <td>NaN</td>\n",
       "      <td>0.94</td>\n",
       "      <td>12.98</td>\n",
       "      <td>N</td>\n",
       "      <td>N</td>\n",
       "      <td></td>\n",
       "      <td>N</td>\n",
       "      <td>N</td>\n",
       "    </tr>\n",
       "    <tr>\n",
       "      <th>3</th>\n",
       "      <td>3</td>\n",
       "      <td>HV0003</td>\n",
       "      <td>B02764</td>\n",
       "      <td>B02764</td>\n",
       "      <td>2021-01-01 00:39:12</td>\n",
       "      <td>2021-01-01 00:42:37</td>\n",
       "      <td>2021-01-01 00:42:51</td>\n",
       "      <td>2021-01-01 00:45:50</td>\n",
       "      <td>142</td>\n",
       "      <td>143</td>\n",
       "      <td>...</td>\n",
       "      <td>0.70</td>\n",
       "      <td>2.75</td>\n",
       "      <td>NaN</td>\n",
       "      <td>0.00</td>\n",
       "      <td>7.41</td>\n",
       "      <td>N</td>\n",
       "      <td>N</td>\n",
       "      <td></td>\n",
       "      <td>N</td>\n",
       "      <td>N</td>\n",
       "    </tr>\n",
       "    <tr>\n",
       "      <th>4</th>\n",
       "      <td>4</td>\n",
       "      <td>HV0003</td>\n",
       "      <td>B02764</td>\n",
       "      <td>B02764</td>\n",
       "      <td>2021-01-01 00:46:11</td>\n",
       "      <td>2021-01-01 00:47:17</td>\n",
       "      <td>2021-01-01 00:48:14</td>\n",
       "      <td>2021-01-01 01:08:42</td>\n",
       "      <td>143</td>\n",
       "      <td>78</td>\n",
       "      <td>...</td>\n",
       "      <td>2.41</td>\n",
       "      <td>2.75</td>\n",
       "      <td>NaN</td>\n",
       "      <td>0.00</td>\n",
       "      <td>22.44</td>\n",
       "      <td>N</td>\n",
       "      <td>N</td>\n",
       "      <td></td>\n",
       "      <td>N</td>\n",
       "      <td>N</td>\n",
       "    </tr>\n",
       "    <tr>\n",
       "      <th>...</th>\n",
       "      <td>...</td>\n",
       "      <td>...</td>\n",
       "      <td>...</td>\n",
       "      <td>...</td>\n",
       "      <td>...</td>\n",
       "      <td>...</td>\n",
       "      <td>...</td>\n",
       "      <td>...</td>\n",
       "      <td>...</td>\n",
       "      <td>...</td>\n",
       "      <td>...</td>\n",
       "      <td>...</td>\n",
       "      <td>...</td>\n",
       "      <td>...</td>\n",
       "      <td>...</td>\n",
       "      <td>...</td>\n",
       "      <td>...</td>\n",
       "      <td>...</td>\n",
       "      <td>...</td>\n",
       "      <td>...</td>\n",
       "      <td>...</td>\n",
       "    </tr>\n",
       "    <tr>\n",
       "      <th>995</th>\n",
       "      <td>995</td>\n",
       "      <td>HV0003</td>\n",
       "      <td>B02871</td>\n",
       "      <td>B02871</td>\n",
       "      <td>2021-01-01 00:30:14</td>\n",
       "      <td>2021-01-01 00:31:49</td>\n",
       "      <td>2021-01-01 00:33:43</td>\n",
       "      <td>2021-01-01 00:47:52</td>\n",
       "      <td>255</td>\n",
       "      <td>61</td>\n",
       "      <td>...</td>\n",
       "      <td>1.49</td>\n",
       "      <td>0.00</td>\n",
       "      <td>NaN</td>\n",
       "      <td>1.88</td>\n",
       "      <td>12.72</td>\n",
       "      <td>N</td>\n",
       "      <td>N</td>\n",
       "      <td></td>\n",
       "      <td>N</td>\n",
       "      <td>N</td>\n",
       "    </tr>\n",
       "    <tr>\n",
       "      <th>996</th>\n",
       "      <td>996</td>\n",
       "      <td>HV0005</td>\n",
       "      <td>B02510</td>\n",
       "      <td>NaN</td>\n",
       "      <td>2021-01-01 00:50:45</td>\n",
       "      <td>NaN</td>\n",
       "      <td>2021-01-01 00:53:10</td>\n",
       "      <td>2021-01-01 01:21:09</td>\n",
       "      <td>114</td>\n",
       "      <td>21</td>\n",
       "      <td>...</td>\n",
       "      <td>3.31</td>\n",
       "      <td>2.75</td>\n",
       "      <td>NaN</td>\n",
       "      <td>0.00</td>\n",
       "      <td>29.34</td>\n",
       "      <td>N</td>\n",
       "      <td>N</td>\n",
       "      <td>N</td>\n",
       "      <td>N</td>\n",
       "      <td>N</td>\n",
       "    </tr>\n",
       "    <tr>\n",
       "      <th>997</th>\n",
       "      <td>997</td>\n",
       "      <td>HV0003</td>\n",
       "      <td>B02512</td>\n",
       "      <td>B02512</td>\n",
       "      <td>2021-01-01 00:15:04</td>\n",
       "      <td>2021-01-01 00:18:08</td>\n",
       "      <td>2021-01-01 00:18:35</td>\n",
       "      <td>2021-01-01 00:26:53</td>\n",
       "      <td>167</td>\n",
       "      <td>42</td>\n",
       "      <td>...</td>\n",
       "      <td>1.01</td>\n",
       "      <td>0.00</td>\n",
       "      <td>NaN</td>\n",
       "      <td>0.00</td>\n",
       "      <td>8.63</td>\n",
       "      <td>N</td>\n",
       "      <td>N</td>\n",
       "      <td></td>\n",
       "      <td>N</td>\n",
       "      <td>N</td>\n",
       "    </tr>\n",
       "    <tr>\n",
       "      <th>998</th>\n",
       "      <td>998</td>\n",
       "      <td>HV0003</td>\n",
       "      <td>B02512</td>\n",
       "      <td>B02512</td>\n",
       "      <td>2021-01-01 00:28:47</td>\n",
       "      <td>2021-01-01 00:33:39</td>\n",
       "      <td>2021-01-01 00:35:39</td>\n",
       "      <td>2021-01-01 00:42:59</td>\n",
       "      <td>116</td>\n",
       "      <td>116</td>\n",
       "      <td>...</td>\n",
       "      <td>0.96</td>\n",
       "      <td>0.00</td>\n",
       "      <td>NaN</td>\n",
       "      <td>0.00</td>\n",
       "      <td>9.11</td>\n",
       "      <td>N</td>\n",
       "      <td>N</td>\n",
       "      <td></td>\n",
       "      <td>N</td>\n",
       "      <td>N</td>\n",
       "    </tr>\n",
       "    <tr>\n",
       "      <th>999</th>\n",
       "      <td>999</td>\n",
       "      <td>HV0003</td>\n",
       "      <td>B02512</td>\n",
       "      <td>B02512</td>\n",
       "      <td>2021-01-01 00:39:58</td>\n",
       "      <td>2021-01-01 00:43:35</td>\n",
       "      <td>2021-01-01 00:44:54</td>\n",
       "      <td>2021-01-01 01:15:59</td>\n",
       "      <td>116</td>\n",
       "      <td>132</td>\n",
       "      <td>...</td>\n",
       "      <td>4.42</td>\n",
       "      <td>0.00</td>\n",
       "      <td>NaN</td>\n",
       "      <td>0.00</td>\n",
       "      <td>39.77</td>\n",
       "      <td>N</td>\n",
       "      <td>N</td>\n",
       "      <td></td>\n",
       "      <td>N</td>\n",
       "      <td>N</td>\n",
       "    </tr>\n",
       "  </tbody>\n",
       "</table>\n",
       "<p>1000 rows × 25 columns</p>\n",
       "</div>"
      ],
      "text/plain": [
       "     Unnamed: 0 hvfhs_license_num dispatching_base_num originating_base_num  \\\n",
       "0             0            HV0003               B02682               B02682   \n",
       "1             1            HV0003               B02682               B02682   \n",
       "2             2            HV0003               B02764               B02764   \n",
       "3             3            HV0003               B02764               B02764   \n",
       "4             4            HV0003               B02764               B02764   \n",
       "..          ...               ...                  ...                  ...   \n",
       "995         995            HV0003               B02871               B02871   \n",
       "996         996            HV0005               B02510                  NaN   \n",
       "997         997            HV0003               B02512               B02512   \n",
       "998         998            HV0003               B02512               B02512   \n",
       "999         999            HV0003               B02512               B02512   \n",
       "\n",
       "        request_datetime    on_scene_datetime      pickup_datetime  \\\n",
       "0    2021-01-01 00:28:09  2021-01-01 00:31:42  2021-01-01 00:33:44   \n",
       "1    2021-01-01 00:45:56  2021-01-01 00:55:19  2021-01-01 00:55:19   \n",
       "2    2021-01-01 00:21:15  2021-01-01 00:22:41  2021-01-01 00:23:56   \n",
       "3    2021-01-01 00:39:12  2021-01-01 00:42:37  2021-01-01 00:42:51   \n",
       "4    2021-01-01 00:46:11  2021-01-01 00:47:17  2021-01-01 00:48:14   \n",
       "..                   ...                  ...                  ...   \n",
       "995  2021-01-01 00:30:14  2021-01-01 00:31:49  2021-01-01 00:33:43   \n",
       "996  2021-01-01 00:50:45                  NaN  2021-01-01 00:53:10   \n",
       "997  2021-01-01 00:15:04  2021-01-01 00:18:08  2021-01-01 00:18:35   \n",
       "998  2021-01-01 00:28:47  2021-01-01 00:33:39  2021-01-01 00:35:39   \n",
       "999  2021-01-01 00:39:58  2021-01-01 00:43:35  2021-01-01 00:44:54   \n",
       "\n",
       "        dropoff_datetime  PULocationID  DOLocationID  ...  sales_tax  \\\n",
       "0    2021-01-01 00:49:07           230           166  ...       1.98   \n",
       "1    2021-01-01 01:18:21           152           167  ...       1.63   \n",
       "2    2021-01-01 00:38:05           233           142  ...       1.25   \n",
       "3    2021-01-01 00:45:50           142           143  ...       0.70   \n",
       "4    2021-01-01 01:08:42           143            78  ...       2.41   \n",
       "..                   ...           ...           ...  ...        ...   \n",
       "995  2021-01-01 00:47:52           255            61  ...       1.49   \n",
       "996  2021-01-01 01:21:09           114            21  ...       3.31   \n",
       "997  2021-01-01 00:26:53           167            42  ...       1.01   \n",
       "998  2021-01-01 00:42:59           116           116  ...       0.96   \n",
       "999  2021-01-01 01:15:59           116           132  ...       4.42   \n",
       "\n",
       "     congestion_surcharge  airport_fee  tips  driver_pay  shared_request_flag  \\\n",
       "0                    2.75          NaN  0.00       14.99                    N   \n",
       "1                    0.00          NaN  0.00       17.06                    N   \n",
       "2                    2.75          NaN  0.94       12.98                    N   \n",
       "3                    2.75          NaN  0.00        7.41                    N   \n",
       "4                    2.75          NaN  0.00       22.44                    N   \n",
       "..                    ...          ...   ...         ...                  ...   \n",
       "995                  0.00          NaN  1.88       12.72                    N   \n",
       "996                  2.75          NaN  0.00       29.34                    N   \n",
       "997                  0.00          NaN  0.00        8.63                    N   \n",
       "998                  0.00          NaN  0.00        9.11                    N   \n",
       "999                  0.00          NaN  0.00       39.77                    N   \n",
       "\n",
       "     shared_match_flag  access_a_ride_flag  wav_request_flag  wav_match_flag  \n",
       "0                    N                                     N               N  \n",
       "1                    N                                     N               N  \n",
       "2                    N                                     N               N  \n",
       "3                    N                                     N               N  \n",
       "4                    N                                     N               N  \n",
       "..                 ...                 ...               ...             ...  \n",
       "995                  N                                     N               N  \n",
       "996                  N                   N                 N               N  \n",
       "997                  N                                     N               N  \n",
       "998                  N                                     N               N  \n",
       "999                  N                                     N               N  \n",
       "\n",
       "[1000 rows x 25 columns]"
      ]
     },
     "execution_count": 4,
     "metadata": {},
     "output_type": "execute_result"
    }
   ],
   "source": [
    "df_pandas = pd.read_csv('head.csv')\n",
    "df_pandas"
   ]
  },
  {
   "cell_type": "code",
   "execution_count": 5,
   "id": "0766da1b-2747-4ffc-89ed-52de65651157",
   "metadata": {},
   "outputs": [
    {
     "data": {
      "text/html": [
       "<div>\n",
       "<style scoped>\n",
       "    .dataframe tbody tr th:only-of-type {\n",
       "        vertical-align: middle;\n",
       "    }\n",
       "\n",
       "    .dataframe tbody tr th {\n",
       "        vertical-align: top;\n",
       "    }\n",
       "\n",
       "    .dataframe thead th {\n",
       "        text-align: right;\n",
       "    }\n",
       "</style>\n",
       "<table border=\"1\" class=\"dataframe\">\n",
       "  <thead>\n",
       "    <tr style=\"text-align: right;\">\n",
       "      <th></th>\n",
       "      <th>Unnamed: 0</th>\n",
       "      <th>hvfhs_license_num</th>\n",
       "      <th>dispatching_base_num</th>\n",
       "      <th>originating_base_num</th>\n",
       "      <th>request_datetime</th>\n",
       "      <th>on_scene_datetime</th>\n",
       "      <th>pickup_datetime</th>\n",
       "      <th>dropoff_datetime</th>\n",
       "      <th>PULocationID</th>\n",
       "      <th>DOLocationID</th>\n",
       "      <th>...</th>\n",
       "      <th>sales_tax</th>\n",
       "      <th>congestion_surcharge</th>\n",
       "      <th>airport_fee</th>\n",
       "      <th>tips</th>\n",
       "      <th>driver_pay</th>\n",
       "      <th>shared_request_flag</th>\n",
       "      <th>shared_match_flag</th>\n",
       "      <th>access_a_ride_flag</th>\n",
       "      <th>wav_request_flag</th>\n",
       "      <th>wav_match_flag</th>\n",
       "    </tr>\n",
       "  </thead>\n",
       "  <tbody>\n",
       "    <tr>\n",
       "      <th>0</th>\n",
       "      <td>0</td>\n",
       "      <td>HV0003</td>\n",
       "      <td>B02682</td>\n",
       "      <td>B02682</td>\n",
       "      <td>2021-01-01 00:28:09</td>\n",
       "      <td>2021-01-01 00:31:42</td>\n",
       "      <td>2021-01-01 00:33:44</td>\n",
       "      <td>2021-01-01 00:49:07</td>\n",
       "      <td>230</td>\n",
       "      <td>166</td>\n",
       "      <td>...</td>\n",
       "      <td>1.98</td>\n",
       "      <td>2.75</td>\n",
       "      <td>NaN</td>\n",
       "      <td>0.00</td>\n",
       "      <td>14.99</td>\n",
       "      <td>N</td>\n",
       "      <td>N</td>\n",
       "      <td></td>\n",
       "      <td>N</td>\n",
       "      <td>N</td>\n",
       "    </tr>\n",
       "    <tr>\n",
       "      <th>1</th>\n",
       "      <td>1</td>\n",
       "      <td>HV0003</td>\n",
       "      <td>B02682</td>\n",
       "      <td>B02682</td>\n",
       "      <td>2021-01-01 00:45:56</td>\n",
       "      <td>2021-01-01 00:55:19</td>\n",
       "      <td>2021-01-01 00:55:19</td>\n",
       "      <td>2021-01-01 01:18:21</td>\n",
       "      <td>152</td>\n",
       "      <td>167</td>\n",
       "      <td>...</td>\n",
       "      <td>1.63</td>\n",
       "      <td>0.00</td>\n",
       "      <td>NaN</td>\n",
       "      <td>0.00</td>\n",
       "      <td>17.06</td>\n",
       "      <td>N</td>\n",
       "      <td>N</td>\n",
       "      <td></td>\n",
       "      <td>N</td>\n",
       "      <td>N</td>\n",
       "    </tr>\n",
       "    <tr>\n",
       "      <th>2</th>\n",
       "      <td>2</td>\n",
       "      <td>HV0003</td>\n",
       "      <td>B02764</td>\n",
       "      <td>B02764</td>\n",
       "      <td>2021-01-01 00:21:15</td>\n",
       "      <td>2021-01-01 00:22:41</td>\n",
       "      <td>2021-01-01 00:23:56</td>\n",
       "      <td>2021-01-01 00:38:05</td>\n",
       "      <td>233</td>\n",
       "      <td>142</td>\n",
       "      <td>...</td>\n",
       "      <td>1.25</td>\n",
       "      <td>2.75</td>\n",
       "      <td>NaN</td>\n",
       "      <td>0.94</td>\n",
       "      <td>12.98</td>\n",
       "      <td>N</td>\n",
       "      <td>N</td>\n",
       "      <td></td>\n",
       "      <td>N</td>\n",
       "      <td>N</td>\n",
       "    </tr>\n",
       "    <tr>\n",
       "      <th>3</th>\n",
       "      <td>3</td>\n",
       "      <td>HV0003</td>\n",
       "      <td>B02764</td>\n",
       "      <td>B02764</td>\n",
       "      <td>2021-01-01 00:39:12</td>\n",
       "      <td>2021-01-01 00:42:37</td>\n",
       "      <td>2021-01-01 00:42:51</td>\n",
       "      <td>2021-01-01 00:45:50</td>\n",
       "      <td>142</td>\n",
       "      <td>143</td>\n",
       "      <td>...</td>\n",
       "      <td>0.70</td>\n",
       "      <td>2.75</td>\n",
       "      <td>NaN</td>\n",
       "      <td>0.00</td>\n",
       "      <td>7.41</td>\n",
       "      <td>N</td>\n",
       "      <td>N</td>\n",
       "      <td></td>\n",
       "      <td>N</td>\n",
       "      <td>N</td>\n",
       "    </tr>\n",
       "    <tr>\n",
       "      <th>4</th>\n",
       "      <td>4</td>\n",
       "      <td>HV0003</td>\n",
       "      <td>B02764</td>\n",
       "      <td>B02764</td>\n",
       "      <td>2021-01-01 00:46:11</td>\n",
       "      <td>2021-01-01 00:47:17</td>\n",
       "      <td>2021-01-01 00:48:14</td>\n",
       "      <td>2021-01-01 01:08:42</td>\n",
       "      <td>143</td>\n",
       "      <td>78</td>\n",
       "      <td>...</td>\n",
       "      <td>2.41</td>\n",
       "      <td>2.75</td>\n",
       "      <td>NaN</td>\n",
       "      <td>0.00</td>\n",
       "      <td>22.44</td>\n",
       "      <td>N</td>\n",
       "      <td>N</td>\n",
       "      <td></td>\n",
       "      <td>N</td>\n",
       "      <td>N</td>\n",
       "    </tr>\n",
       "  </tbody>\n",
       "</table>\n",
       "<p>5 rows × 25 columns</p>\n",
       "</div>"
      ],
      "text/plain": [
       "   Unnamed: 0 hvfhs_license_num dispatching_base_num originating_base_num  \\\n",
       "0           0            HV0003               B02682               B02682   \n",
       "1           1            HV0003               B02682               B02682   \n",
       "2           2            HV0003               B02764               B02764   \n",
       "3           3            HV0003               B02764               B02764   \n",
       "4           4            HV0003               B02764               B02764   \n",
       "\n",
       "      request_datetime    on_scene_datetime      pickup_datetime  \\\n",
       "0  2021-01-01 00:28:09  2021-01-01 00:31:42  2021-01-01 00:33:44   \n",
       "1  2021-01-01 00:45:56  2021-01-01 00:55:19  2021-01-01 00:55:19   \n",
       "2  2021-01-01 00:21:15  2021-01-01 00:22:41  2021-01-01 00:23:56   \n",
       "3  2021-01-01 00:39:12  2021-01-01 00:42:37  2021-01-01 00:42:51   \n",
       "4  2021-01-01 00:46:11  2021-01-01 00:47:17  2021-01-01 00:48:14   \n",
       "\n",
       "      dropoff_datetime  PULocationID  DOLocationID  ...  sales_tax  \\\n",
       "0  2021-01-01 00:49:07           230           166  ...       1.98   \n",
       "1  2021-01-01 01:18:21           152           167  ...       1.63   \n",
       "2  2021-01-01 00:38:05           233           142  ...       1.25   \n",
       "3  2021-01-01 00:45:50           142           143  ...       0.70   \n",
       "4  2021-01-01 01:08:42           143            78  ...       2.41   \n",
       "\n",
       "   congestion_surcharge  airport_fee  tips  driver_pay  shared_request_flag  \\\n",
       "0                  2.75          NaN  0.00       14.99                    N   \n",
       "1                  0.00          NaN  0.00       17.06                    N   \n",
       "2                  2.75          NaN  0.94       12.98                    N   \n",
       "3                  2.75          NaN  0.00        7.41                    N   \n",
       "4                  2.75          NaN  0.00       22.44                    N   \n",
       "\n",
       "   shared_match_flag  access_a_ride_flag  wav_request_flag  wav_match_flag  \n",
       "0                  N                                     N               N  \n",
       "1                  N                                     N               N  \n",
       "2                  N                                     N               N  \n",
       "3                  N                                     N               N  \n",
       "4                  N                                     N               N  \n",
       "\n",
       "[5 rows x 25 columns]"
      ]
     },
     "execution_count": 5,
     "metadata": {},
     "output_type": "execute_result"
    }
   ],
   "source": [
    "df_pandas.head()"
   ]
  },
  {
   "cell_type": "code",
   "execution_count": 26,
   "id": "02838667-d550-417d-a277-ceee3eb7c67a",
   "metadata": {
    "scrolled": true
   },
   "outputs": [
    {
     "data": {
      "text/plain": [
       "Unnamed: 0                int64\n",
       "hvfhs_license_num        object\n",
       "dispatching_base_num     object\n",
       "originating_base_num     object\n",
       "request_datetime         object\n",
       "on_scene_datetime        object\n",
       "pickup_datetime          object\n",
       "dropoff_datetime         object\n",
       "PULocationID              int64\n",
       "DOLocationID              int64\n",
       "trip_miles              float64\n",
       "trip_time                 int64\n",
       "base_passenger_fare     float64\n",
       "tolls                   float64\n",
       "bcf                     float64\n",
       "sales_tax               float64\n",
       "congestion_surcharge    float64\n",
       "airport_fee             float64\n",
       "tips                    float64\n",
       "driver_pay              float64\n",
       "shared_request_flag      object\n",
       "shared_match_flag        object\n",
       "access_a_ride_flag       object\n",
       "wav_request_flag         object\n",
       "wav_match_flag           object\n",
       "dtype: object"
      ]
     },
     "execution_count": 26,
     "metadata": {},
     "output_type": "execute_result"
    }
   ],
   "source": [
    "df_pandas.dtypes\n",
    "#uses the output to prepare the schema for next step"
   ]
  },
  {
   "cell_type": "code",
   "execution_count": 7,
   "id": "600a115a-1876-41ab-ab42-3126c9069983",
   "metadata": {
    "scrolled": true
   },
   "outputs": [
    {
     "name": "stderr",
     "output_type": "stream",
     "text": [
      "/home/pedro/spark/spark-3.4.2-bin-hadoop3/python/pyspark/sql/pandas/conversion.py:479: FutureWarning: is_datetime64tz_dtype is deprecated and will be removed in a future version. Check `isinstance(dtype, pd.DatetimeTZDtype)` instead.\n",
      "  if should_localize and is_datetime64tz_dtype(s.dtype) and s.dt.tz is not None:\n"
     ]
    },
    {
     "data": {
      "text/plain": [
       "StructType([StructField('Unnamed: 0', LongType(), True), StructField('hvfhs_license_num', StringType(), True), StructField('dispatching_base_num', StringType(), True), StructField('originating_base_num', StringType(), True), StructField('request_datetime', StringType(), True), StructField('on_scene_datetime', StringType(), True), StructField('pickup_datetime', StringType(), True), StructField('dropoff_datetime', StringType(), True), StructField('PULocationID', LongType(), True), StructField('DOLocationID', LongType(), True), StructField('trip_miles', DoubleType(), True), StructField('trip_time', LongType(), True), StructField('base_passenger_fare', DoubleType(), True), StructField('tolls', DoubleType(), True), StructField('bcf', DoubleType(), True), StructField('sales_tax', DoubleType(), True), StructField('congestion_surcharge', DoubleType(), True), StructField('airport_fee', DoubleType(), True), StructField('tips', DoubleType(), True), StructField('driver_pay', DoubleType(), True), StructField('shared_request_flag', StringType(), True), StructField('shared_match_flag', StringType(), True), StructField('access_a_ride_flag', StringType(), True), StructField('wav_request_flag', StringType(), True), StructField('wav_match_flag', StringType(), True)])"
      ]
     },
     "execution_count": 7,
     "metadata": {},
     "output_type": "execute_result"
    }
   ],
   "source": [
    "## crete a spark dataframe\n",
    "spark.createDataFrame(df_pandas).schema"
   ]
  },
  {
   "cell_type": "code",
   "execution_count": 8,
   "id": "2711c7c6-0ea6-4b5d-9862-e2d7f8a2f216",
   "metadata": {},
   "outputs": [],
   "source": [
    "from pyspark.sql import types"
   ]
  },
  {
   "cell_type": "code",
   "execution_count": 11,
   "id": "d927900d-ee2b-4fbf-9510-233b2d81a99e",
   "metadata": {},
   "outputs": [],
   "source": [
    "schema = types.StructType(\n",
    "\t[\n",
    "\t\ttypes.StructField('Unnamed: 0', types.LongType(), True), \n",
    "\t\ttypes.StructField('hvfhs_license_num', types.StringType(), True), \n",
    "\t\ttypes.StructField('dispatching_base_num', types.StringType(), True), \n",
    "\t\ttypes.StructField('originating_base_num', types.StringType(), True), \n",
    "\t\ttypes.StructField('request_datetime', types.StringType(), True), \n",
    "\t\ttypes.StructField('on_scene_datetime', types.StringType(), True), \n",
    "\t\ttypes.StructField('pickup_datetime', types.TimestampType(), True), \n",
    "\t\ttypes.StructField('dropoff_datetime', types.TimestampType(), True), \n",
    "\t\ttypes.StructField('PULocationID', types.IntegerType(), True), \n",
    "\t\ttypes.StructField('DOLocationID', types.IntegerType(), True), \n",
    "\t\ttypes.StructField('trip_miles', types.DoubleType(), True), \n",
    "\t\ttypes.StructField('trip_time', types.LongType(), True), \n",
    "\t\ttypes.StructField('base_passenger_fare', types.DoubleType(), True), \n",
    "\t\ttypes.StructField('tolls', types.DoubleType(), True), \n",
    "\t\ttypes.StructField('bcf', types.DoubleType(), True), \n",
    "\t\ttypes.StructField('sales_tax', types.DoubleType(), True), \n",
    "\t\ttypes.StructField('congestion_surcharge', types.DoubleType(), True), \n",
    "\t\ttypes.StructField('airport_fee', types.DoubleType(), True), \n",
    "\t\ttypes.StructField('tips', types.DoubleType(), True), \n",
    "\t\ttypes.StructField('driver_pay', types.DoubleType(), True), \n",
    "\t\ttypes.StructField('shared_request_flag', types.StringType(), True), \n",
    "\t\ttypes.StructField('shared_match_flag', types.StringType(), True), \n",
    "\t\ttypes.StructField('access_a_ride_flag', types.StringType(), True), \n",
    "\t\ttypes.StructField('wav_request_flag', types.StringType(), True), \n",
    "\t\ttypes.StructField('wav_match_flag', types.StringType(), True)\n",
    "\t]\n",
    ")"
   ]
  },
  {
   "cell_type": "code",
   "execution_count": 27,
   "id": "a368d180-f0dd-4fd5-bda5-71a61e6215db",
   "metadata": {},
   "outputs": [],
   "source": [
    "#reading the csv file with a specified schema\n",
    "df = spark.read \\\n",
    "    .option('header', 'true') \\\n",
    "    .schema(schema) \\\n",
    "    .csv('fhvhv_tripdata_2021-01.csv')"
   ]
  },
  {
   "cell_type": "code",
   "execution_count": 22,
   "id": "7abf729a-060e-4d82-b416-bde6dfea2e38",
   "metadata": {},
   "outputs": [
    {
     "name": "stderr",
     "output_type": "stream",
     "text": [
      "24/03/03 16:54:29 WARN CSVHeaderChecker: CSV header does not conform to the schema.\n",
      " Header: , hvfhs_license_num, dispatching_base_num, originating_base_num, request_datetime, on_scene_datetime, pickup_datetime, dropoff_datetime, PULocationID, DOLocationID, trip_miles, trip_time, base_passenger_fare, tolls, bcf, sales_tax, congestion_surcharge, airport_fee, tips, driver_pay, shared_request_flag, shared_match_flag, access_a_ride_flag, wav_request_flag, wav_match_flag\n",
      " Schema: Unnamed: 0, hvfhs_license_num, dispatching_base_num, originating_base_num, request_datetime, on_scene_datetime, pickup_datetime, dropoff_datetime, PULocationID, DOLocationID, trip_miles, trip_time, base_passenger_fare, tolls, bcf, sales_tax, congestion_surcharge, airport_fee, tips, driver_pay, shared_request_flag, shared_match_flag, access_a_ride_flag, wav_request_flag, wav_match_flag\n",
      "Expected: Unnamed: 0 but found: \n",
      "CSV file: file:///home/pedro/de-camp-24/05-batch/code/fhvhv_tripdata_2021-01.csv\n"
     ]
    },
    {
     "data": {
      "text/plain": [
       "[Row(Unnamed: 0=0, hvfhs_license_num='HV0003', dispatching_base_num='B02682', originating_base_num='B02682', request_datetime='2021-01-01 00:28:09', on_scene_datetime='2021-01-01 00:31:42', pickup_datetime=datetime.datetime(2020, 12, 31, 23, 33, 44), dropoff_datetime=datetime.datetime(2020, 12, 31, 23, 49, 7), PULocationID=230, DOLocationID=166, trip_miles=5.26, trip_time=923, base_passenger_fare=22.28, tolls=0.0, bcf=0.67, sales_tax=1.98, congestion_surcharge=2.75, airport_fee=None, tips=0.0, driver_pay=14.99, shared_request_flag='N', shared_match_flag='N', access_a_ride_flag=' ', wav_request_flag='N', wav_match_flag='N'),\n",
       " Row(Unnamed: 0=1, hvfhs_license_num='HV0003', dispatching_base_num='B02682', originating_base_num='B02682', request_datetime='2021-01-01 00:45:56', on_scene_datetime='2021-01-01 00:55:19', pickup_datetime=datetime.datetime(2020, 12, 31, 23, 55, 19), dropoff_datetime=datetime.datetime(2021, 1, 1, 0, 18, 21), PULocationID=152, DOLocationID=167, trip_miles=3.65, trip_time=1382, base_passenger_fare=18.36, tolls=0.0, bcf=0.55, sales_tax=1.63, congestion_surcharge=0.0, airport_fee=None, tips=0.0, driver_pay=17.06, shared_request_flag='N', shared_match_flag='N', access_a_ride_flag=' ', wav_request_flag='N', wav_match_flag='N'),\n",
       " Row(Unnamed: 0=2, hvfhs_license_num='HV0003', dispatching_base_num='B02764', originating_base_num='B02764', request_datetime='2021-01-01 00:21:15', on_scene_datetime='2021-01-01 00:22:41', pickup_datetime=datetime.datetime(2020, 12, 31, 23, 23, 56), dropoff_datetime=datetime.datetime(2020, 12, 31, 23, 38, 5), PULocationID=233, DOLocationID=142, trip_miles=3.51, trip_time=849, base_passenger_fare=14.05, tolls=0.0, bcf=0.48, sales_tax=1.25, congestion_surcharge=2.75, airport_fee=None, tips=0.94, driver_pay=12.98, shared_request_flag='N', shared_match_flag='N', access_a_ride_flag=' ', wav_request_flag='N', wav_match_flag='N'),\n",
       " Row(Unnamed: 0=3, hvfhs_license_num='HV0003', dispatching_base_num='B02764', originating_base_num='B02764', request_datetime='2021-01-01 00:39:12', on_scene_datetime='2021-01-01 00:42:37', pickup_datetime=datetime.datetime(2020, 12, 31, 23, 42, 51), dropoff_datetime=datetime.datetime(2020, 12, 31, 23, 45, 50), PULocationID=142, DOLocationID=143, trip_miles=0.74, trip_time=179, base_passenger_fare=7.91, tolls=0.0, bcf=0.24, sales_tax=0.7, congestion_surcharge=2.75, airport_fee=None, tips=0.0, driver_pay=7.41, shared_request_flag='N', shared_match_flag='N', access_a_ride_flag=' ', wav_request_flag='N', wav_match_flag='N'),\n",
       " Row(Unnamed: 0=4, hvfhs_license_num='HV0003', dispatching_base_num='B02764', originating_base_num='B02764', request_datetime='2021-01-01 00:46:11', on_scene_datetime='2021-01-01 00:47:17', pickup_datetime=datetime.datetime(2020, 12, 31, 23, 48, 14), dropoff_datetime=datetime.datetime(2021, 1, 1, 0, 8, 42), PULocationID=143, DOLocationID=78, trip_miles=9.2, trip_time=1228, base_passenger_fare=27.11, tolls=0.0, bcf=0.81, sales_tax=2.41, congestion_surcharge=2.75, airport_fee=None, tips=0.0, driver_pay=22.44, shared_request_flag='N', shared_match_flag='N', access_a_ride_flag=' ', wav_request_flag='N', wav_match_flag='N')]"
      ]
     },
     "execution_count": 22,
     "metadata": {},
     "output_type": "execute_result"
    }
   ],
   "source": [
    "df.head(5)"
   ]
  },
  {
   "cell_type": "code",
   "execution_count": 28,
   "id": "64d7ed92-9aee-4e03-88c6-e2c56c88f5bb",
   "metadata": {},
   "outputs": [
    {
     "data": {
      "text/plain": [
       "DataFrame[Unnamed: 0: bigint, hvfhs_license_num: string, dispatching_base_num: string, originating_base_num: string, request_datetime: string, on_scene_datetime: string, pickup_datetime: timestamp, dropoff_datetime: timestamp, PULocationID: int, DOLocationID: int, trip_miles: double, trip_time: bigint, base_passenger_fare: double, tolls: double, bcf: double, sales_tax: double, congestion_surcharge: double, airport_fee: double, tips: double, driver_pay: double, shared_request_flag: string, shared_match_flag: string, access_a_ride_flag: string, wav_request_flag: string, wav_match_flag: string]"
      ]
     },
     "execution_count": 28,
     "metadata": {},
     "output_type": "execute_result"
    }
   ],
   "source": [
    "# define how many parquet partitions after, df.write.parquet()\n",
    "df.repartition(24)"
   ]
  },
  {
   "cell_type": "code",
   "execution_count": null,
   "id": "4b017f1b-868d-40c4-adb2-4f46d47d36c7",
   "metadata": {
    "scrolled": true
   },
   "outputs": [],
   "source": [
    "# save parquet partitioned files\n",
    "df.write.parquet('fhvhv/2021/01')"
   ]
  },
  {
   "cell_type": "code",
   "execution_count": 29,
   "id": "4d6b5f66-3b5c-49ed-a440-b88c8cc8c4bc",
   "metadata": {},
   "outputs": [],
   "source": [
    "df = spark.read.parquet('fhvhv/2021/01/')"
   ]
  },
  {
   "cell_type": "code",
   "execution_count": 30,
   "id": "0851aa19-66ef-4ebf-b375-87f8fa09874a",
   "metadata": {
    "scrolled": true
   },
   "outputs": [
    {
     "name": "stdout",
     "output_type": "stream",
     "text": [
      "root\n",
      " |-- Unnamed: 0: long (nullable = true)\n",
      " |-- hvfhs_license_num: string (nullable = true)\n",
      " |-- dispatching_base_num: string (nullable = true)\n",
      " |-- originating_base_num: string (nullable = true)\n",
      " |-- request_datetime: string (nullable = true)\n",
      " |-- on_scene_datetime: string (nullable = true)\n",
      " |-- pickup_datetime: timestamp (nullable = true)\n",
      " |-- dropoff_datetime: timestamp (nullable = true)\n",
      " |-- PULocationID: integer (nullable = true)\n",
      " |-- DOLocationID: integer (nullable = true)\n",
      " |-- trip_miles: double (nullable = true)\n",
      " |-- trip_time: long (nullable = true)\n",
      " |-- base_passenger_fare: double (nullable = true)\n",
      " |-- tolls: double (nullable = true)\n",
      " |-- bcf: double (nullable = true)\n",
      " |-- sales_tax: double (nullable = true)\n",
      " |-- congestion_surcharge: double (nullable = true)\n",
      " |-- airport_fee: double (nullable = true)\n",
      " |-- tips: double (nullable = true)\n",
      " |-- driver_pay: double (nullable = true)\n",
      " |-- shared_request_flag: string (nullable = true)\n",
      " |-- shared_match_flag: string (nullable = true)\n",
      " |-- access_a_ride_flag: string (nullable = true)\n",
      " |-- wav_request_flag: string (nullable = true)\n",
      " |-- wav_match_flag: string (nullable = true)\n",
      "\n"
     ]
    }
   ],
   "source": [
    "df.printSchema()"
   ]
  },
  {
   "cell_type": "code",
   "execution_count": 44,
   "id": "27147301-8aa7-4c15-a60b-99bff7df2172",
   "metadata": {},
   "outputs": [],
   "source": [
    "# function package\n",
    "from pyspark.sql import functions as F"
   ]
  },
  {
   "cell_type": "code",
   "execution_count": null,
   "id": "e70242c0-ce6c-43be-a1f4-009f4c399b15",
   "metadata": {},
   "outputs": [],
   "source": [
    "F.to_date()"
   ]
  },
  {
   "cell_type": "code",
   "execution_count": null,
   "id": "a9ec881b-abcd-4a5d-8062-581903ab1219",
   "metadata": {
    "scrolled": true
   },
   "outputs": [],
   "source": [
    "# withColumn() - adds a new column to the df\n",
    "df \\\n",
    "    .withColumn('pickup_date', F.to_date(df.pickup_datetime)) \\\n",
    "    .withColumn('dropoff_date', F.to_date(df.pickup_datetime)) \\\n",
    "    .select('pickup_date', 'dropoff_date', 'PULocationID', 'DOLocationID') \\\n",
    "    .show()"
   ]
  },
  {
   "cell_type": "code",
   "execution_count": 45,
   "id": "89e32df5-c193-4e9d-b8e9-4fa2e679192c",
   "metadata": {},
   "outputs": [],
   "source": [
    "# simulation of some very specific business logic\n",
    "def crazy_stuff(base_num):\n",
    "    num = int(base_num[1:])\n",
    "    if num % 7 == 0:\n",
    "        return f's/{num:03x}'\n",
    "    elif num % 3 == 0:\n",
    "        return f'a/{num:03x}'\n",
    "    else:\n",
    "        return f'e/{num:03x}'"
   ]
  },
  {
   "cell_type": "code",
   "execution_count": 46,
   "id": "ba4e76e6-ceaa-4ea8-bd93-0a5e6213286f",
   "metadata": {},
   "outputs": [
    {
     "data": {
      "text/plain": [
       "'s/b44'"
      ]
     },
     "execution_count": 46,
     "metadata": {},
     "output_type": "execute_result"
    }
   ],
   "source": [
    "crazy_stuff('B02884')"
   ]
  },
  {
   "cell_type": "code",
   "execution_count": 47,
   "id": "20a5be22-db1a-49fc-aa98-4b96be876941",
   "metadata": {},
   "outputs": [],
   "source": [
    "crazy_stuff_udf = F.udf(crazy_stuff, returnType=types.StringType())"
   ]
  },
  {
   "cell_type": "code",
   "execution_count": 49,
   "id": "cc625be7-6f46-4ba9-9c7a-d7646ae19c21",
   "metadata": {},
   "outputs": [
    {
     "name": "stdout",
     "output_type": "stream",
     "text": [
      "+-------+-----------+------------+------------+------------+\n",
      "|base_id|pickup_date|dropoff_date|PULocationID|DOLocationID|\n",
      "+-------+-----------+------------+------------+------------+\n",
      "|  e/9ce| 2021-01-10|  2021-01-10|          53|         250|\n",
      "|  e/9ce| 2021-01-10|  2021-01-10|         225|          17|\n",
      "|  e/b38| 2021-01-10|  2021-01-10|          61|         177|\n",
      "|  e/b38| 2021-01-10|  2021-01-10|         177|         225|\n",
      "|  e/b38| 2021-01-10|  2021-01-10|          17|          35|\n",
      "|  e/b3e| 2021-01-10|  2021-01-10|          25|         165|\n",
      "|  e/b3e| 2021-01-10|  2021-01-10|          22|          76|\n",
      "|  e/b38| 2021-01-10|  2021-01-10|          16|          64|\n",
      "|  e/b38| 2021-01-10|  2021-01-10|         191|         191|\n",
      "|  e/9ce| 2021-01-10|  2021-01-10|          89|         188|\n",
      "|  e/b30| 2021-01-10|  2021-01-10|          37|          85|\n",
      "|  e/b30| 2021-01-10|  2021-01-10|         188|         177|\n",
      "|  e/9ce| 2021-01-10|  2021-01-10|          97|          89|\n",
      "|  e/9ce| 2021-01-10|  2021-01-10|          85|          65|\n",
      "|  e/b38| 2021-01-10|  2021-01-10|         100|          72|\n",
      "|  e/b38| 2021-01-10|  2021-01-10|          72|         206|\n",
      "|  a/b37| 2021-01-10|  2021-01-10|          22|         150|\n",
      "|  e/9ce| 2021-01-10|  2021-01-10|         226|         226|\n",
      "|  e/b30| 2021-01-10|  2021-01-10|         260|         226|\n",
      "|  e/b30| 2021-01-10|  2021-01-10|         141|         202|\n",
      "+-------+-----------+------------+------------+------------+\n",
      "only showing top 20 rows\n",
      "\n"
     ]
    },
    {
     "name": "stderr",
     "output_type": "stream",
     "text": [
      "                                                                                \r"
     ]
    }
   ],
   "source": [
    "# withColumn() - adds a new column to the df\n",
    "df \\\n",
    "    .withColumn('pickup_date', F.to_date(df.pickup_datetime)) \\\n",
    "    .withColumn('dropoff_date', F.to_date(df.pickup_datetime)) \\\n",
    "    .withColumn('base_id', crazy_stuff_udf(df.dispatching_base_num)) \\\n",
    "    .select('base_id','pickup_date', 'dropoff_date', 'PULocationID', 'DOLocationID') \\\n",
    "    .show()"
   ]
  },
  {
   "cell_type": "code",
   "execution_count": 39,
   "id": "0d3d96bd-280e-4954-9d22-397f4bbe28d0",
   "metadata": {},
   "outputs": [
    {
     "name": "stdout",
     "output_type": "stream",
     "text": [
      "+-------------------+-------------------+------------+------------+\n",
      "|    pickup_datetime|   dropoff_datetime|PULocationID|DOLocationID|\n",
      "+-------------------+-------------------+------------+------------+\n",
      "|2021-01-10 02:14:32|2021-01-10 02:23:08|          61|         177|\n",
      "|2021-01-10 02:27:48|2021-01-10 02:37:42|         177|         225|\n",
      "|2021-01-10 02:56:13|2021-01-10 03:11:59|          17|          35|\n",
      "|2021-01-10 02:23:28|2021-01-10 02:46:58|          25|         165|\n",
      "|2021-01-10 02:55:27|2021-01-10 03:22:00|          22|          76|\n",
      "|2021-01-10 02:13:31|2021-01-10 02:18:40|          16|          64|\n",
      "|2021-01-10 02:40:36|2021-01-10 02:45:49|         191|         191|\n",
      "|2021-01-10 02:05:07|2021-01-10 02:26:25|          37|          85|\n",
      "|2021-01-10 02:58:41|2021-01-10 03:13:50|         188|         177|\n",
      "|2021-01-10 02:00:41|2021-01-10 02:35:41|         100|          72|\n",
      "|2021-01-10 02:39:21|2021-01-10 03:17:10|          72|         206|\n",
      "|2021-01-10 02:00:23|2021-01-10 02:12:29|          22|         150|\n",
      "|2021-01-10 02:10:24|2021-01-10 02:15:30|         260|         226|\n",
      "|2021-01-10 02:39:25|2021-01-10 02:49:27|         141|         202|\n",
      "|2021-01-10 02:35:53|2021-01-10 02:44:48|         225|          61|\n",
      "|2021-01-10 02:12:48|2021-01-10 02:22:41|          22|          14|\n",
      "|2021-01-10 02:30:15|2021-01-10 02:56:19|          14|         124|\n",
      "|2021-01-10 02:34:23|2021-01-10 02:39:05|         114|          90|\n",
      "|2021-01-10 02:44:58|2021-01-10 02:59:23|          90|          25|\n",
      "|2021-01-10 02:35:26|2021-01-10 02:39:30|         164|         137|\n",
      "+-------------------+-------------------+------------+------------+\n",
      "only showing top 20 rows\n",
      "\n"
     ]
    }
   ],
   "source": [
    "df.select('pickup_datetime', 'dropoff_datetime', 'PULocationID', 'DOLocationID') \\\n",
    "    .filter(df.hvfhs_license_num == 'HV0003') \\\n",
    "    .show()   \n",
    "#.show()# .take(5) # .head()"
   ]
  },
  {
   "cell_type": "code",
   "execution_count": null,
   "id": "488bd6e7-d1ac-4892-9435-137112bf1ffc",
   "metadata": {},
   "outputs": [],
   "source": []
  }
 ],
 "metadata": {
  "kernelspec": {
   "display_name": "Python 3 (ipykernel)",
   "language": "python",
   "name": "python3"
  },
  "language_info": {
   "codemirror_mode": {
    "name": "ipython",
    "version": 3
   },
   "file_extension": ".py",
   "mimetype": "text/x-python",
   "name": "python",
   "nbconvert_exporter": "python",
   "pygments_lexer": "ipython3",
   "version": "3.10.12"
  }
 },
 "nbformat": 4,
 "nbformat_minor": 5
}
