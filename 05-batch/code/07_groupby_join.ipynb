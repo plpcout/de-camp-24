{
 "cells": [
  {
   "cell_type": "code",
   "execution_count": 1,
   "id": "6e94bad1-4093-432a-851d-40e7318a316b",
   "metadata": {},
   "outputs": [
    {
     "name": "stderr",
     "output_type": "stream",
     "text": [
      "24/03/04 15:53:47 WARN Utils: Your hostname, pedro resolves to a loopback address: 127.0.1.1; using 192.168.15.20 instead (on interface wlp5s0)\n",
      "24/03/04 15:53:47 WARN Utils: Set SPARK_LOCAL_IP if you need to bind to another address\n",
      "Setting default log level to \"WARN\".\n",
      "To adjust logging level use sc.setLogLevel(newLevel). For SparkR, use setLogLevel(newLevel).\n",
      "24/03/04 15:53:48 WARN NativeCodeLoader: Unable to load native-hadoop library for your platform... using builtin-java classes where applicable\n",
      "24/03/04 15:53:49 WARN Utils: Service 'SparkUI' could not bind on port 4040. Attempting port 4041.\n"
     ]
    }
   ],
   "source": [
    "import pyspark\n",
    "from pyspark.sql import SparkSession\n",
    "\n",
    "spark = SparkSession.builder \\\n",
    "    .master('local[*]') \\\n",
    "    .appName('test') \\\n",
    "    .getOrCreate()"
   ]
  },
  {
   "cell_type": "code",
   "execution_count": 25,
   "id": "1c5f7802-daea-4d66-a362-3895cfe7626c",
   "metadata": {},
   "outputs": [],
   "source": [
    "df_green = spark.read.parquet('data/pq/green/*/*')\n",
    "df_yellow = spark.read.parquet('data/pq/yellow/*/*')"
   ]
  },
  {
   "cell_type": "code",
   "execution_count": 35,
   "id": "e8321dfd-50e6-41a7-aef6-b20c3461ff3b",
   "metadata": {},
   "outputs": [],
   "source": [
    "# df_green.registerTempTable('green') # deprecate warning\n",
    "df_green.createOrReplaceTempView('green')\n",
    "df_yellow.createOrReplaceTempView('yellow')\n"
   ]
  },
  {
   "cell_type": "code",
   "execution_count": 27,
   "id": "f9d38a10-9566-4b38-80ee-21e09f7167b6",
   "metadata": {},
   "outputs": [],
   "source": [
    "df_green_revenue = spark.sql(\"\"\"\n",
    "SELECT \n",
    "    -- Reveneue grouping \n",
    "    date_trunc('hour', lpep_pickup_datetime) AS hour, \n",
    "    PULocationID AS zone,\n",
    "    \n",
    "    SUM(total_amount) AS amount,\n",
    "    COUNT(1) AS number_records\n",
    "\n",
    "FROM\n",
    "    green\n",
    "WHERE\n",
    "    lpep_pickup_datetime >= '2020-01-01 00:00:00'\n",
    "GROUP BY\n",
    "    1, 2\n",
    "ORDER BY\n",
    "    1, 2\n",
    "\n",
    "\"\"\")"
   ]
  },
  {
   "cell_type": "code",
   "execution_count": 28,
   "id": "d2acd1eb-9dc7-4f41-9f29-4985e06b59d6",
   "metadata": {},
   "outputs": [],
   "source": [
    "df_yellow_revenue = spark.sql(\"\"\"\n",
    "SELECT \n",
    "    -- Reveneue grouping \n",
    "    date_trunc('hour', tpep_pickup_datetime) AS hour, \n",
    "    PULocationID AS zone,\n",
    "    \n",
    "    SUM(total_amount) AS amount,\n",
    "    COUNT(1) AS number_records\n",
    "\n",
    "FROM\n",
    "    yellow\n",
    "WHERE\n",
    "    tpep_pickup_datetime >= '2020-01-01 00:00:00'\n",
    "GROUP BY\n",
    "    1, 2\n",
    "ORDER BY\n",
    "    1, 2\n",
    "\n",
    "\"\"\")"
   ]
  },
  {
   "cell_type": "code",
   "execution_count": null,
   "id": "79d3538e-d58c-4bf8-b3ec-1af4033b4e08",
   "metadata": {
    "scrolled": true
   },
   "outputs": [],
   "source": [
    "df_green_revenue.show()\n"
   ]
  },
  {
   "cell_type": "code",
   "execution_count": null,
   "id": "a2a3e746-3889-4631-b9de-fc4ce546b543",
   "metadata": {
    "scrolled": true
   },
   "outputs": [],
   "source": [
    "df_yellow_revenue.show()"
   ]
  },
  {
   "cell_type": "code",
   "execution_count": 33,
   "id": "16dc5fa9-2a41-4834-9704-f653f4882c26",
   "metadata": {},
   "outputs": [
    {
     "name": "stderr",
     "output_type": "stream",
     "text": [
      "24/03/04 16:32:57 WARN MemoryManager: Total allocation exceeds 95,00% (1.020.054.720 bytes) of heap memory\n",
      "Scaling row group sizes to 95,00% for 8 writers\n",
      "24/03/04 16:32:58 WARN MemoryManager: Total allocation exceeds 95,00% (1.020.054.720 bytes) of heap memory\n",
      "Scaling row group sizes to 95,00% for 8 writers\n"
     ]
    }
   ],
   "source": [
    "df_green_revenue \\\n",
    "    .repartition(20) \\\n",
    "    .write.parquet('data/report/revenue/green', mode='overwrite')\n"
   ]
  },
  {
   "cell_type": "code",
   "execution_count": 34,
   "id": "cbbe42d4-7a7c-4697-8010-399876ceb1d0",
   "metadata": {},
   "outputs": [
    {
     "name": "stderr",
     "output_type": "stream",
     "text": [
      "24/03/04 16:34:05 WARN MemoryManager: Total allocation exceeds 95,00% (1.020.054.720 bytes) of heap memory\n",
      "Scaling row group sizes to 95,00% for 8 writers\n",
      "24/03/04 16:34:05 WARN MemoryManager: Total allocation exceeds 95,00% (1.020.054.720 bytes) of heap memory\n",
      "Scaling row group sizes to 95,00% for 8 writers\n",
      "                                                                                \r"
     ]
    }
   ],
   "source": [
    "df_yellow_revenue \\\n",
    "    .repartition(20) \\\n",
    "    .write.parquet('data/report/revenue/yellow', mode='overwrite')"
   ]
  },
  {
   "cell_type": "code",
   "execution_count": 38,
   "id": "7e15d7d3-2149-4160-98bd-f6221ebe910a",
   "metadata": {},
   "outputs": [],
   "source": [
    "df_green_revenue_tmp = df_green_revenue \\\n",
    "    .withColumnRenamed('amount','green_amount') \\\n",
    "    .withColumnRenamed('number_records','green_number_records')\n",
    "\n",
    "df_yellow_revenue_tmp = df_yellow_revenue \\\n",
    "    .withColumnRenamed('amount','yellow_amount') \\\n",
    "    .withColumnRenamed('number_records','yellow_number_records')"
   ]
  },
  {
   "cell_type": "code",
   "execution_count": null,
   "id": "7bd8d650-9458-4e4b-9dd4-c12f249c8f46",
   "metadata": {},
   "outputs": [],
   "source": []
  },
  {
   "cell_type": "code",
   "execution_count": 39,
   "id": "ebc96f68-c260-4ae6-904a-20f6311dad6d",
   "metadata": {},
   "outputs": [],
   "source": [
    "# joining green with yellow\n",
    "df_join = df_green_revenue_tmp.join(df_yellow_revenue_tmp, on=['hour','zone'], how='outer')"
   ]
  },
  {
   "cell_type": "code",
   "execution_count": 41,
   "id": "515ebbf5-5c92-4196-ad60-67f1554288c4",
   "metadata": {},
   "outputs": [
    {
     "data": {
      "text/plain": [
       "['hour',\n",
       " 'zone',\n",
       " 'green_amount',\n",
       " 'green_number_records',\n",
       " 'yellow_amount',\n",
       " 'yellow_number_records']"
      ]
     },
     "execution_count": 41,
     "metadata": {},
     "output_type": "execute_result"
    }
   ],
   "source": [
    "df_join.columns"
   ]
  },
  {
   "cell_type": "code",
   "execution_count": 40,
   "id": "0dfea565-6c53-4d61-be71-24f0b5d4d428",
   "metadata": {},
   "outputs": [
    {
     "name": "stderr",
     "output_type": "stream",
     "text": [
      "[Stage 84:===================================================>    (11 + 1) / 12]\r"
     ]
    },
    {
     "name": "stdout",
     "output_type": "stream",
     "text": [
      "+-------------------+----+------------------+--------------------+------------------+---------------------+\n",
      "|               hour|zone|      green_amount|green_number_records|     yellow_amount|yellow_number_records|\n",
      "+-------------------+----+------------------+--------------------+------------------+---------------------+\n",
      "|2020-01-01 00:00:00|  29|              61.3|                   1|              null|                 null|\n",
      "|2020-01-01 00:00:00|  41|1363.9599999999984|                  84|           1256.53|                   80|\n",
      "|2020-01-01 00:00:00|  55|129.29000000000002|                   4|              null|                 null|\n",
      "|2020-01-01 00:00:00|  65|199.48999999999998|                  10| 409.3500000000001|                   19|\n",
      "|2020-01-01 00:00:00|  72|             67.53|                   2|              null|                 null|\n",
      "|2020-01-01 00:00:00|  83|              94.1|                   7|               9.8|                    1|\n",
      "|2020-01-01 00:00:00| 122|103.96000000000001|                   2|              null|                 null|\n",
      "|2020-01-01 00:00:00| 127|              null|                null|43.900000000000006|                    3|\n",
      "|2020-01-01 00:00:00| 136|            111.68|                   2|             168.0|                    4|\n",
      "|2020-01-01 00:00:00| 157|             52.86|                   2|             57.06|                    2|\n",
      "|2020-01-01 00:00:00| 158|              null|                null| 4295.579999999999|                  226|\n",
      "|2020-01-01 00:00:00| 162|              null|                null| 4622.289999999999|                  268|\n",
      "|2020-01-01 00:00:00| 185|              null|                null|             69.51|                    2|\n",
      "|2020-01-01 00:00:00| 196|             37.91|                   2|              35.6|                    2|\n",
      "|2020-01-01 00:00:00| 218|             72.27|                   2|              null|                 null|\n",
      "|2020-01-01 00:00:00| 233|              null|                null|2028.8199999999988|                  121|\n",
      "|2020-01-01 00:00:00| 234|              null|                null| 8815.860000000019|                  480|\n",
      "|2020-01-01 00:00:00| 247|            117.66|                   5|               9.3|                    1|\n",
      "|2020-01-01 00:00:00| 249|              null|                null| 7790.170000000012|                  422|\n",
      "|2020-01-01 00:00:00| 256|296.62000000000006|                  13|            451.51|                   22|\n",
      "+-------------------+----+------------------+--------------------+------------------+---------------------+\n",
      "only showing top 20 rows\n",
      "\n"
     ]
    },
    {
     "name": "stderr",
     "output_type": "stream",
     "text": [
      "                                                                                \r"
     ]
    }
   ],
   "source": [
    "df_join.show()"
   ]
  },
  {
   "cell_type": "code",
   "execution_count": 42,
   "id": "5f6beae6-6bfa-46e7-b00b-4fcb0556951e",
   "metadata": {},
   "outputs": [],
   "source": [
    "df_zones = spark.read.parquet('zones/')"
   ]
  },
  {
   "cell_type": "code",
   "execution_count": 43,
   "id": "136dc8f4-fee5-4edd-8f19-b2a0cb2ffd9c",
   "metadata": {},
   "outputs": [],
   "source": [
    "df_result = df_join.join(df_zones, df_join.zone == df_zones.LocationID)"
   ]
  },
  {
   "cell_type": "code",
   "execution_count": 45,
   "id": "0eedb07f-9c3f-4e16-9c65-0e44df7400f1",
   "metadata": {},
   "outputs": [
    {
     "name": "stderr",
     "output_type": "stream",
     "text": [
      "24/03/04 20:07:05 WARN MemoryManager: Total allocation exceeds 95,00% (1.020.054.720 bytes) of heap memory\n",
      "Scaling row group sizes to 95,00% for 8 writers\n",
      "                                                                                \r"
     ]
    }
   ],
   "source": [
    "df_result.drop('LocationID', 'zone') \\\n",
    "    .write.parquet('tmp/revenue-zones')"
   ]
  },
  {
   "cell_type": "code",
   "execution_count": null,
   "id": "c5909114-dd28-4d32-9366-729ac99656ec",
   "metadata": {},
   "outputs": [],
   "source": []
  },
  {
   "cell_type": "code",
   "execution_count": null,
   "id": "155bb223-4517-4020-a491-f4674c435ce2",
   "metadata": {},
   "outputs": [],
   "source": []
  }
 ],
 "metadata": {
  "kernelspec": {
   "display_name": "Python 3 (ipykernel)",
   "language": "python",
   "name": "python3"
  },
  "language_info": {
   "codemirror_mode": {
    "name": "ipython",
    "version": 3
   },
   "file_extension": ".py",
   "mimetype": "text/x-python",
   "name": "python",
   "nbconvert_exporter": "python",
   "pygments_lexer": "ipython3",
   "version": "3.10.12"
  }
 },
 "nbformat": 4,
 "nbformat_minor": 5
}
